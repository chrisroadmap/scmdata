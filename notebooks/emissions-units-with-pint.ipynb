{
 "cells": [
  {
   "cell_type": "markdown",
   "metadata": {},
   "source": [
    "# Emissions units with Pint\n",
    "\n",
    "In this notebook we give some examples of how units are handled in SCMData and are built on top of the [Pint](https://github.com/hgrecco/pint) package."
   ]
  },
  {
   "cell_type": "code",
   "execution_count": 1,
   "metadata": {
    "pycharm": {
     "is_executing": false
    }
   },
   "outputs": [
    {
     "data": {
      "application/javascript": [
       "IPython.OutputArea.prototype._should_scroll = function(lines) { return false; }"
      ],
      "text/plain": [
       "<IPython.core.display.Javascript object>"
      ]
     },
     "metadata": {},
     "output_type": "display_data"
    },
    {
     "name": "stderr",
     "output_type": "stream",
     "text": [
      "pyam - INFO: Running in a notebook, setting `pyam` logging level to `logging.INFO` and adding stderr handler\n"
     ]
    }
   ],
   "source": [
    "# NBVAL_IGNORE_OUTPUT\n",
    "import warnings\n",
    "import traceback\n",
    "\n",
    "import pint\n",
    "from pint.errors import DimensionalityError\n",
    "\n",
    "from scmdata.units import UnitConverter"
   ]
  },
  {
   "cell_type": "markdown",
   "metadata": {},
   "source": [
    "## UnitConverter\n",
    "\n",
    "The `UnitConverter` class handles all unit conversions for us. It is used as shown."
   ]
  },
  {
   "cell_type": "code",
   "execution_count": 2,
   "metadata": {
    "pycharm": {
     "is_executing": false
    }
   },
   "outputs": [
    {
     "data": {
      "text/plain": [
       "3666.666666666667"
      ]
     },
     "execution_count": 2,
     "metadata": {},
     "output_type": "execute_result"
    }
   ],
   "source": [
    "uc = UnitConverter(\"GtC/yr\", \"Mt CO2 / yr\")\n",
    "uc.convert_from(1)"
   ]
  },
  {
   "cell_type": "code",
   "execution_count": 3,
   "metadata": {
    "pycharm": {
     "is_executing": false
    }
   },
   "outputs": [
    {
     "data": {
      "text/plain": [
       "0.0002727272727272727"
      ]
     },
     "execution_count": 3,
     "metadata": {},
     "output_type": "execute_result"
    }
   ],
   "source": [
    "uc.convert_to(1)"
   ]
  },
  {
   "cell_type": "markdown",
   "metadata": {},
   "source": [
    "## Pint Unit Registry\n",
    "\n",
    "The `unit_registry` which sits underneath all conversions can be accessed via `UnitConverter`'s `unit_registry` property. Nevertheless, you should have no need to access it directly."
   ]
  },
  {
   "cell_type": "code",
   "execution_count": 4,
   "metadata": {
    "pycharm": {
     "is_executing": false
    }
   },
   "outputs": [],
   "source": [
    "unit_registry = uc.unit_registry"
   ]
  },
  {
   "cell_type": "markdown",
   "metadata": {},
   "source": [
    "Having accessed the `unit_registry`, all the units available in SCMData can be shown like so."
   ]
  },
  {
   "cell_type": "code",
   "execution_count": 5,
   "metadata": {
    "pycharm": {
     "is_executing": false
    }
   },
   "outputs": [
    {
     "data": {
      "text/plain": [
       "['A',\n",
       " 'A_90',\n",
       " 'A_US',\n",
       " 'A_it',\n",
       " 'At',\n",
       " 'B',\n",
       " 'BC',\n",
       " 'BDFT',\n",
       " 'BF',\n",
       " 'BTU',\n",
       " 'Ba',\n",
       " 'Bd',\n",
       " 'Bi',\n",
       " 'Bq',\n",
       " 'Btu',\n",
       " 'Btu_iso',\n",
       " 'Btu_it',\n",
       " 'Btu_th',\n",
       " 'C',\n",
       " 'C10F18',\n",
       " 'C2F6',\n",
       " 'C3F8',\n",
       " 'C4F10',\n",
       " 'C5F12',\n",
       " 'C6F14',\n",
       " 'C7F16',\n",
       " 'C8F18',\n",
       " 'CC3F6',\n",
       " 'CC4F8',\n",
       " 'CCL4',\n",
       " 'CCl4',\n",
       " 'CF4',\n",
       " 'CFC11',\n",
       " 'CFC113',\n",
       " 'CFC114',\n",
       " 'CFC115',\n",
       " 'CFC12',\n",
       " 'CFC13',\n",
       " 'CH2CL2',\n",
       " 'CH2Cl2',\n",
       " 'CH3BR',\n",
       " 'CH3Br',\n",
       " 'CH3CCL3',\n",
       " 'CH3CCl3',\n",
       " 'CH3CL',\n",
       " 'CH3Cl',\n",
       " 'CH4',\n",
       " 'CHCL3',\n",
       " 'CHCl3',\n",
       " 'CO',\n",
       " 'CO2',\n",
       " 'C_90',\n",
       " 'Ci',\n",
       " 'Cl',\n",
       " 'D',\n",
       " 'DPI',\n",
       " 'Da',\n",
       " 'ECC',\n",
       " 'EC_therm',\n",
       " 'E_h',\n",
       " 'Eh',\n",
       " 'F',\n",
       " 'FBM',\n",
       " 'F_90',\n",
       " 'Fr',\n",
       " 'G',\n",
       " 'G_0',\n",
       " 'Gal',\n",
       " 'Gb',\n",
       " 'Gy',\n",
       " 'H',\n",
       " 'H2O',\n",
       " 'HALON1201',\n",
       " 'HALON1202',\n",
       " 'HALON1211',\n",
       " 'HALON1301',\n",
       " 'HALON2402',\n",
       " 'HCFC123',\n",
       " 'HCFC124',\n",
       " 'HCFC141B',\n",
       " 'HCFC141b',\n",
       " 'HCFC142B',\n",
       " 'HCFC142b',\n",
       " 'HCFC21',\n",
       " 'HCFC22',\n",
       " 'HCFC225CA',\n",
       " 'HCFC225CB',\n",
       " 'HCFC225ca',\n",
       " 'HCFC225cb',\n",
       " 'HCFE235DA2',\n",
       " 'HCFE235da2',\n",
       " 'HFC125',\n",
       " 'HFC134',\n",
       " 'HFC134A',\n",
       " 'HFC134a',\n",
       " 'HFC143',\n",
       " 'HFC143A',\n",
       " 'HFC143a',\n",
       " 'HFC152',\n",
       " 'HFC152A',\n",
       " 'HFC152a',\n",
       " 'HFC161',\n",
       " 'HFC227EA',\n",
       " 'HFC227ea',\n",
       " 'HFC23',\n",
       " 'HFC236CB',\n",
       " 'HFC236EA',\n",
       " 'HFC236FA',\n",
       " 'HFC236cb',\n",
       " 'HFC236ea',\n",
       " 'HFC236fa',\n",
       " 'HFC245CA',\n",
       " 'HFC245FA',\n",
       " 'HFC245ca',\n",
       " 'HFC245fa',\n",
       " 'HFC32',\n",
       " 'HFC365MFC',\n",
       " 'HFC365mfc',\n",
       " 'HFC41',\n",
       " 'HFC4310',\n",
       " 'HFC4310MEE',\n",
       " 'HFC4310mee',\n",
       " 'HFE125',\n",
       " 'HFE134',\n",
       " 'HFE143A',\n",
       " 'HFE143a',\n",
       " 'HFE227EA',\n",
       " 'HFE227ea',\n",
       " 'HFE236CA12',\n",
       " 'HFE236EA2',\n",
       " 'HFE236FA',\n",
       " 'HFE236ca12',\n",
       " 'HFE236ea2',\n",
       " 'HFE236fa',\n",
       " 'HFE245CB2',\n",
       " 'HFE245FA1',\n",
       " 'HFE245FA2',\n",
       " 'HFE245cb2',\n",
       " 'HFE245fa1',\n",
       " 'HFE245fa2',\n",
       " 'HFE263FB2',\n",
       " 'HFE263fb2',\n",
       " 'HFE329MCC2',\n",
       " 'HFE329mcc2',\n",
       " 'HFE338MCF2',\n",
       " 'HFE338PCC13',\n",
       " 'HFE338mcf2',\n",
       " 'HFE338pcc13',\n",
       " 'HFE347MCC3',\n",
       " 'HFE347MCF2',\n",
       " 'HFE347PCF2',\n",
       " 'HFE347mcc3',\n",
       " 'HFE347mcf2',\n",
       " 'HFE347pcf2',\n",
       " 'HFE356MEC3',\n",
       " 'HFE356PCC3',\n",
       " 'HFE356PCF2',\n",
       " 'HFE356PCF3',\n",
       " 'HFE356mec3',\n",
       " 'HFE356pcc3',\n",
       " 'HFE356pcf2',\n",
       " 'HFE356pcf3',\n",
       " 'HFE365MCF3',\n",
       " 'HFE365mcf3',\n",
       " 'HFE374PC2',\n",
       " 'HFE374pc2',\n",
       " 'HFE4310PCCC124',\n",
       " 'HFE4310pccc124',\n",
       " 'HFE449SL',\n",
       " 'HFE449sl',\n",
       " 'HFE569SF2',\n",
       " 'HFE569sf2',\n",
       " 'H_90',\n",
       " 'Halon1201',\n",
       " 'Halon1202',\n",
       " 'Halon1211',\n",
       " 'Halon1301',\n",
       " 'Halon2402',\n",
       " 'Hg',\n",
       " 'Hg_0C',\n",
       " 'Hg_32F',\n",
       " 'Hg_60F',\n",
       " 'Hz',\n",
       " 'J',\n",
       " 'K',\n",
       " 'KPH',\n",
       " 'K_J',\n",
       " 'K_J90',\n",
       " 'K_alpha_Cu_d_220',\n",
       " 'K_alpha_Mo_d_220',\n",
       " 'K_alpha_W_d_220',\n",
       " 'L',\n",
       " 'Ly',\n",
       " 'M',\n",
       " 'MPH',\n",
       " 'Measurement',\n",
       " 'Mx',\n",
       " 'N',\n",
       " 'N2O',\n",
       " 'N2ON',\n",
       " 'NF3',\n",
       " 'NH3',\n",
       " 'NMVOC',\n",
       " 'NO2',\n",
       " 'NOX',\n",
       " 'NOx',\n",
       " 'N_A',\n",
       " 'Ne',\n",
       " 'NeC',\n",
       " 'Nm',\n",
       " 'Np',\n",
       " 'OC',\n",
       " 'Oe',\n",
       " 'P',\n",
       " 'PFPMIE',\n",
       " 'PPCM',\n",
       " 'PPI',\n",
       " 'PSH',\n",
       " 'Pa',\n",
       " 'Phi_0',\n",
       " 'Quantity',\n",
       " 'R',\n",
       " 'RKM',\n",
       " 'R_K',\n",
       " 'R_K90',\n",
       " 'R_inf',\n",
       " 'R_∞',\n",
       " 'Rd',\n",
       " 'Ry',\n",
       " 'S',\n",
       " 'SF5CF3',\n",
       " 'SF6',\n",
       " 'SO2',\n",
       " 'SO2F2',\n",
       " 'SOX',\n",
       " 'SOx',\n",
       " 'St',\n",
       " 'Sv',\n",
       " 'T',\n",
       " 'Ta',\n",
       " 'Td',\n",
       " 'Tj',\n",
       " 'Tt',\n",
       " 'U',\n",
       " 'UK_bbl',\n",
       " 'UK_bushel',\n",
       " 'UK_cup',\n",
       " 'UK_cwt',\n",
       " 'UK_fluid_ounce',\n",
       " 'UK_force_ton',\n",
       " 'UK_gallon',\n",
       " 'UK_gill',\n",
       " 'UK_horsepower',\n",
       " 'UK_hundredweight',\n",
       " 'UK_pint',\n",
       " 'UK_pk',\n",
       " 'UK_quart',\n",
       " 'UK_ton',\n",
       " 'UK_ton_force',\n",
       " 'US_cwt',\n",
       " 'US_dry_barrel',\n",
       " 'US_dry_gallon',\n",
       " 'US_dry_pint',\n",
       " 'US_dry_quart',\n",
       " 'US_fluid_dram',\n",
       " 'US_fluid_ounce',\n",
       " 'US_force_ton',\n",
       " 'US_hundredweight',\n",
       " 'US_international_ampere',\n",
       " 'US_international_ohm',\n",
       " 'US_international_volt',\n",
       " 'US_liquid_cup',\n",
       " 'US_liquid_dram',\n",
       " 'US_liquid_fifth',\n",
       " 'US_liquid_gallon',\n",
       " 'US_liquid_gill',\n",
       " 'US_liquid_ounce',\n",
       " 'US_liquid_quart',\n",
       " 'US_pint',\n",
       " 'US_shot',\n",
       " 'US_therm',\n",
       " 'US_ton',\n",
       " 'US_ton_force',\n",
       " 'Unit',\n",
       " 'V',\n",
       " 'VA',\n",
       " 'VOC',\n",
       " 'V_90',\n",
       " 'V_US',\n",
       " 'V_it',\n",
       " 'W',\n",
       " 'W_90',\n",
       " 'Wb',\n",
       " 'Wh',\n",
       " 'Xu_Cu',\n",
       " 'Xu_Mo',\n",
       " 'Z_0',\n",
       " 'a',\n",
       " 'a0',\n",
       " 'a_0',\n",
       " 'a_u_action',\n",
       " 'a_u_current',\n",
       " 'a_u_electric_field',\n",
       " 'a_u_energy',\n",
       " 'a_u_force',\n",
       " 'a_u_intensity',\n",
       " 'a_u_length',\n",
       " 'a_u_mass',\n",
       " 'a_u_temp',\n",
       " 'a_u_time',\n",
       " 'abA',\n",
       " 'abC',\n",
       " 'abF',\n",
       " 'abH',\n",
       " 'abS',\n",
       " 'abV',\n",
       " 'abampere',\n",
       " 'abcoulomb',\n",
       " 'aberdeen',\n",
       " 'abfarad',\n",
       " 'abhenry',\n",
       " 'abmho',\n",
       " 'abohm',\n",
       " 'absiemens',\n",
       " 'abvolt',\n",
       " 'abΩ',\n",
       " 'acre',\n",
       " 'acre_feet',\n",
       " 'acre_foot',\n",
       " 'alpha',\n",
       " 'ammonia',\n",
       " 'amp',\n",
       " 'ampere',\n",
       " 'ampere_turn',\n",
       " 'amu',\n",
       " 'angstrom',\n",
       " 'angstrom_star',\n",
       " 'angular_degree',\n",
       " 'angular_minute',\n",
       " 'angular_second',\n",
       " 'annum',\n",
       " 'ap_dr',\n",
       " 'ap_lb',\n",
       " 'ap_oz',\n",
       " 'apothecary_dram',\n",
       " 'apothecary_ounce',\n",
       " 'apothecary_pound',\n",
       " 'arc_minute',\n",
       " 'arc_second',\n",
       " 'arcdeg',\n",
       " 'arcdegree',\n",
       " 'arcmin',\n",
       " 'arcminute',\n",
       " 'arcsec',\n",
       " 'arcsecond',\n",
       " 'are',\n",
       " 'astronomical_unit',\n",
       " 'at',\n",
       " 'atm',\n",
       " 'atm_l',\n",
       " 'atmosphere',\n",
       " 'atmosphere_liter',\n",
       " 'atomic_mass_constant',\n",
       " 'atomic_unit_of_action',\n",
       " 'atomic_unit_of_current',\n",
       " 'atomic_unit_of_electric_field',\n",
       " 'atomic_unit_of_energy',\n",
       " 'atomic_unit_of_force',\n",
       " 'atomic_unit_of_intensity',\n",
       " 'atomic_unit_of_length',\n",
       " 'atomic_unit_of_mass',\n",
       " 'atomic_unit_of_temperature',\n",
       " 'atomic_unit_of_time',\n",
       " 'au',\n",
       " 'avdp_dram',\n",
       " 'avdp_ounce',\n",
       " 'avdp_pound',\n",
       " 'avogadro_constant',\n",
       " 'avogadro_number',\n",
       " 'avoirdupois_dram',\n",
       " 'avoirdupois_ounce',\n",
       " 'avoirdupois_pound',\n",
       " 'b',\n",
       " 'bag',\n",
       " 'bar',\n",
       " 'barad',\n",
       " 'barie',\n",
       " 'barn',\n",
       " 'barrel',\n",
       " 'barrie',\n",
       " 'baryd',\n",
       " 'barye',\n",
       " 'baud',\n",
       " 'bbl',\n",
       " 'becquerel',\n",
       " 'beer_barrel',\n",
       " 'beer_bbl',\n",
       " 'bel',\n",
       " 'big_point',\n",
       " 'biot',\n",
       " 'biot_turn',\n",
       " 'bit',\n",
       " 'bits_per_pixel',\n",
       " 'black_carbon',\n",
       " 'blob',\n",
       " 'board_feet',\n",
       " 'board_foot',\n",
       " 'bohr',\n",
       " 'bohr_magneton',\n",
       " 'bohr_radius',\n",
       " 'boiler_horsepower',\n",
       " 'boltzmann_constant',\n",
       " 'bp',\n",
       " 'bpp',\n",
       " 'bps',\n",
       " 'british_thermal_unit',\n",
       " 'bu',\n",
       " 'buckingham',\n",
       " 'bushel',\n",
       " 'byte',\n",
       " 'c',\n",
       " 'cC3F6',\n",
       " 'cC4F8',\n",
       " 'c_0',\n",
       " 'c_1',\n",
       " 'c_2',\n",
       " 'cables_length',\n",
       " 'cal',\n",
       " 'cal_15',\n",
       " 'cal_it',\n",
       " 'cal_th',\n",
       " 'calorie',\n",
       " 'candela',\n",
       " 'candle',\n",
       " 'carat',\n",
       " 'carbon',\n",
       " 'carbon_dioxide',\n",
       " 'carbon_monoxide',\n",
       " 'cc',\n",
       " 'cd',\n",
       " 'celsius',\n",
       " 'centimeter',\n",
       " 'centimeter_H2O',\n",
       " 'centimeter_Hg',\n",
       " 'centimeter_Hg_0C',\n",
       " 'centipoise',\n",
       " 'centuries',\n",
       " 'century',\n",
       " 'chain',\n",
       " 'characteristic_impedance_of_vacuum',\n",
       " 'cicero',\n",
       " 'circle',\n",
       " 'circular_mil',\n",
       " 'classical_electron_radius',\n",
       " 'clausius',\n",
       " 'cmH2O',\n",
       " 'cmHg',\n",
       " 'cm_1',\n",
       " 'cm_H2O',\n",
       " 'cm_Hg',\n",
       " 'cmil',\n",
       " 'common_year',\n",
       " 'conductance_quantum',\n",
       " 'conventional_ampere_90',\n",
       " 'conventional_coulomb_90',\n",
       " 'conventional_farad_90',\n",
       " 'conventional_henry_90',\n",
       " 'conventional_josephson_constant',\n",
       " 'conventional_mercury',\n",
       " 'conventional_ohm_90',\n",
       " 'conventional_volt_90',\n",
       " 'conventional_von_klitzing_constant',\n",
       " 'conventional_water',\n",
       " 'conventional_watt_90',\n",
       " 'convert',\n",
       " 'coulomb',\n",
       " 'coulomb_constant',\n",
       " 'count',\n",
       " 'counts_per_second',\n",
       " 'cp',\n",
       " 'cps',\n",
       " 'css_pixel',\n",
       " 'ct',\n",
       " 'cu_ft',\n",
       " 'cu_in',\n",
       " 'cu_yd',\n",
       " 'cubic_centimeter',\n",
       " 'cubic_feet',\n",
       " 'cubic_foot',\n",
       " 'cubic_inch',\n",
       " 'cubic_yard',\n",
       " 'cup',\n",
       " 'curie',\n",
       " 'cwt',\n",
       " 'cycle',\n",
       " 'd',\n",
       " 'd_220',\n",
       " 'dalton',\n",
       " 'darcy',\n",
       " 'day',\n",
       " 'debye',\n",
       " 'decade',\n",
       " 'decimeter',\n",
       " 'decitex',\n",
       " 'define',\n",
       " 'deg',\n",
       " 'degC',\n",
       " 'degF',\n",
       " 'degK',\n",
       " 'degR',\n",
       " 'degRe',\n",
       " 'degree',\n",
       " 'degreeC',\n",
       " 'degreeF',\n",
       " 'degreeK',\n",
       " 'degreeR',\n",
       " 'degreeRe',\n",
       " 'degree_Celsius',\n",
       " 'degree_Fahrenheit',\n",
       " 'degree_Kelvin',\n",
       " 'degree_Rankine',\n",
       " 'degree_Reaumur',\n",
       " 'degree_Réaumur',\n",
       " 'delta_celsius',\n",
       " 'delta_degC',\n",
       " 'delta_degF',\n",
       " 'delta_degRe',\n",
       " 'delta_degreeC',\n",
       " 'delta_degreeF',\n",
       " 'delta_degreeRe',\n",
       " 'delta_degree_Celsius',\n",
       " 'delta_degree_Fahrenheit',\n",
       " 'delta_degree_Reaumur',\n",
       " 'delta_degree_Réaumur',\n",
       " 'delta_fahrenheit',\n",
       " 'delta_reaumur',\n",
       " 'delta_réaumur',\n",
       " 'den',\n",
       " 'denier',\n",
       " 'dgal',\n",
       " 'didot',\n",
       " 'dirac_constant',\n",
       " 'dot',\n",
       " 'dots_per_inch',\n",
       " 'dpi',\n",
       " 'dqt',\n",
       " 'dr',\n",
       " 'drachm',\n",
       " 'dram',\n",
       " 'dry_barrel',\n",
       " 'dry_gallon',\n",
       " 'dry_pint',\n",
       " 'dry_quart',\n",
       " 'dtex',\n",
       " 'dwt',\n",
       " 'dyn',\n",
       " 'dyne',\n",
       " 'e',\n",
       " 'eV',\n",
       " 'electric_constant',\n",
       " 'electrical_horsepower',\n",
       " 'electron_g_factor',\n",
       " 'electron_mass',\n",
       " 'electron_volt',\n",
       " 'elementary_charge',\n",
       " 'entropy_unit',\n",
       " 'enzyme_unit',\n",
       " 'enzymeunit',\n",
       " 'eon',\n",
       " 'eps0',\n",
       " 'eps_0',\n",
       " 'epsilon_0',\n",
       " 'erg',\n",
       " 'esu',\n",
       " 'eu',\n",
       " 'fahrenheit',\n",
       " 'farad',\n",
       " 'faraday',\n",
       " 'faraday_constant',\n",
       " 'fathom',\n",
       " 'feet',\n",
       " 'feet_H2O',\n",
       " 'femtometer',\n",
       " 'fermi',\n",
       " 'fifteen_degree_calorie',\n",
       " 'fifth',\n",
       " 'fine_structure_constant',\n",
       " 'first_radiation_constant',\n",
       " 'fldr',\n",
       " 'floz',\n",
       " 'fluid_dram',\n",
       " 'fluid_ounce',\n",
       " 'fluidram',\n",
       " 'fm',\n",
       " 'foot',\n",
       " 'foot_H2O',\n",
       " 'foot_per_second',\n",
       " 'foot_pound',\n",
       " 'footpound',\n",
       " 'force_gram',\n",
       " 'force_kilogram',\n",
       " 'force_long_ton',\n",
       " 'force_metric_ton',\n",
       " 'force_ounce',\n",
       " 'force_pound',\n",
       " 'force_short_ton',\n",
       " 'force_t',\n",
       " 'force_ton',\n",
       " 'fortnight',\n",
       " 'fps',\n",
       " 'franklin',\n",
       " 'ft',\n",
       " 'ftH2O',\n",
       " 'ft_lb',\n",
       " 'fur',\n",
       " 'furlong',\n",
       " 'g',\n",
       " 'g0',\n",
       " 'gBC',\n",
       " 'gC',\n",
       " 'gC10F18',\n",
       " 'gC2F6',\n",
       " 'gC3F8',\n",
       " 'gC4F10',\n",
       " 'gC5F12',\n",
       " 'gC6F14',\n",
       " 'gC7F16',\n",
       " 'gC8F18',\n",
       " 'gCC3F6',\n",
       " 'gCC4F8',\n",
       " 'gCCL4',\n",
       " 'gCCl4',\n",
       " 'gCF4',\n",
       " 'gCFC11',\n",
       " 'gCFC113',\n",
       " 'gCFC114',\n",
       " 'gCFC115',\n",
       " 'gCFC12',\n",
       " 'gCFC13',\n",
       " 'gCH2CL2',\n",
       " 'gCH2Cl2',\n",
       " 'gCH3BR',\n",
       " 'gCH3Br',\n",
       " 'gCH3CCL3',\n",
       " 'gCH3CCl3',\n",
       " 'gCH3CL',\n",
       " 'gCH3Cl',\n",
       " 'gCH4',\n",
       " 'gCHCL3',\n",
       " 'gCHCl3',\n",
       " 'gCO',\n",
       " 'gCO2',\n",
       " 'gHALON1201',\n",
       " 'gHALON1202',\n",
       " 'gHALON1211',\n",
       " 'gHALON1301',\n",
       " 'gHALON2402',\n",
       " 'gHCFC123',\n",
       " 'gHCFC124',\n",
       " 'gHCFC141B',\n",
       " 'gHCFC141b',\n",
       " 'gHCFC142B',\n",
       " 'gHCFC142b',\n",
       " 'gHCFC21',\n",
       " 'gHCFC22',\n",
       " 'gHCFC225CA',\n",
       " 'gHCFC225CB',\n",
       " 'gHCFC225ca',\n",
       " 'gHCFC225cb',\n",
       " 'gHCFE235DA2',\n",
       " 'gHCFE235da2',\n",
       " 'gHFC125',\n",
       " 'gHFC134',\n",
       " 'gHFC134A',\n",
       " 'gHFC134a',\n",
       " 'gHFC143',\n",
       " 'gHFC143A',\n",
       " 'gHFC143a',\n",
       " 'gHFC152',\n",
       " 'gHFC152A',\n",
       " 'gHFC152a',\n",
       " 'gHFC161',\n",
       " 'gHFC227EA',\n",
       " 'gHFC227ea',\n",
       " 'gHFC23',\n",
       " 'gHFC236CB',\n",
       " 'gHFC236EA',\n",
       " 'gHFC236FA',\n",
       " 'gHFC236cb',\n",
       " 'gHFC236ea',\n",
       " 'gHFC236fa',\n",
       " 'gHFC245CA',\n",
       " 'gHFC245FA',\n",
       " 'gHFC245ca',\n",
       " 'gHFC245fa',\n",
       " 'gHFC32',\n",
       " 'gHFC365MFC',\n",
       " 'gHFC365mfc',\n",
       " 'gHFC41',\n",
       " 'gHFC4310',\n",
       " 'gHFC4310MEE',\n",
       " 'gHFC4310mee',\n",
       " 'gHFE125',\n",
       " 'gHFE134',\n",
       " 'gHFE143A',\n",
       " 'gHFE143a',\n",
       " 'gHFE227EA',\n",
       " 'gHFE227ea',\n",
       " 'gHFE236CA12',\n",
       " 'gHFE236EA2',\n",
       " 'gHFE236FA',\n",
       " 'gHFE236ca12',\n",
       " 'gHFE236ea2',\n",
       " 'gHFE236fa',\n",
       " 'gHFE245CB2',\n",
       " 'gHFE245FA1',\n",
       " 'gHFE245FA2',\n",
       " 'gHFE245cb2',\n",
       " 'gHFE245fa1',\n",
       " 'gHFE245fa2',\n",
       " 'gHFE263FB2',\n",
       " 'gHFE263fb2',\n",
       " 'gHFE329MCC2',\n",
       " 'gHFE329mcc2',\n",
       " 'gHFE338MCF2',\n",
       " 'gHFE338PCC13',\n",
       " 'gHFE338mcf2',\n",
       " 'gHFE338pcc13',\n",
       " 'gHFE347MCC3',\n",
       " 'gHFE347MCF2',\n",
       " 'gHFE347PCF2',\n",
       " 'gHFE347mcc3',\n",
       " 'gHFE347mcf2',\n",
       " 'gHFE347pcf2',\n",
       " 'gHFE356MEC3',\n",
       " 'gHFE356PCC3',\n",
       " 'gHFE356PCF2',\n",
       " 'gHFE356PCF3',\n",
       " 'gHFE356mec3',\n",
       " 'gHFE356pcc3',\n",
       " 'gHFE356pcf2',\n",
       " 'gHFE356pcf3',\n",
       " 'gHFE365MCF3',\n",
       " 'gHFE365mcf3',\n",
       " 'gHFE374PC2',\n",
       " 'gHFE374pc2',\n",
       " 'gHFE4310PCCC124',\n",
       " 'gHFE4310pccc124',\n",
       " 'gHFE449SL',\n",
       " 'gHFE449sl',\n",
       " 'gHFE569SF2',\n",
       " 'gHFE569sf2',\n",
       " 'gHalon1201',\n",
       " 'gHalon1202',\n",
       " 'gHalon1211',\n",
       " 'gHalon1301',\n",
       " 'gHalon2402',\n",
       " 'gN',\n",
       " 'gN2O',\n",
       " 'gN2ON',\n",
       " 'gNF3',\n",
       " 'gNH3',\n",
       " 'gNMVOC',\n",
       " 'gNO2',\n",
       " 'gNOX',\n",
       " 'gNOx',\n",
       " 'gOC',\n",
       " 'gPFPMIE',\n",
       " 'gS',\n",
       " 'gSF5CF3',\n",
       " 'gSF6',\n",
       " 'gSO2',\n",
       " 'gSO2F2',\n",
       " 'gSOX',\n",
       " 'gSOx',\n",
       " 'gVOC',\n",
       " 'g_0',\n",
       " 'g_e',\n",
       " 'g_n',\n",
       " 'gal',\n",
       " 'galileo',\n",
       " 'gallon',\n",
       " 'gamma',\n",
       " 'gamma_mass',\n",
       " 'gauss',\n",
       " 'gcC3F6',\n",
       " 'gcC4F8',\n",
       " 'get_base_units',\n",
       " 'get_dimensionality',\n",
       " 'get_name',\n",
       " 'get_root_units',\n",
       " 'get_symbol',\n",
       " 'gf',\n",
       " 'gi',\n",
       " 'gigatC',\n",
       " 'gilbert',\n",
       " 'gill',\n",
       " 'gnox',\n",
       " 'gon',\n",
       " 'gr',\n",
       " 'grad',\n",
       " 'grade',\n",
       " 'grain',\n",
       " 'gram',\n",
       " 'gram_force',\n",
       " 'gravitational_constant',\n",
       " 'gravity',\n",
       " 'gray',\n",
       " 'gregorian_year',\n",
       " 'h',\n",
       " 'ha',\n",
       " 'hand',\n",
       " 'hartree',\n",
       " 'hartree_energy',\n",
       " 'hbar',\n",
       " 'hectare',\n",
       " 'henry',\n",
       " 'hertz',\n",
       " 'hogshead',\n",
       " 'horsepower',\n",
       " 'hour',\n",
       " 'hp',\n",
       " 'hr',\n",
       " 'hundredweight',\n",
       " 'hydraulic_horsepower',\n",
       " 'impedance_of_free_space',\n",
       " 'imperial_barrel',\n",
       " 'imperial_bbl',\n",
       " 'imperial_bu',\n",
       " 'imperial_bushel',\n",
       " 'imperial_cp',\n",
       " 'imperial_cup',\n",
       " 'imperial_fldr',\n",
       " 'imperial_floz',\n",
       " 'imperial_fluid_drachm',\n",
       " 'imperial_fluid_dram',\n",
       " 'imperial_fluid_ounce',\n",
       " 'imperial_fluid_scruple',\n",
       " 'imperial_gal',\n",
       " 'imperial_gallon',\n",
       " 'imperial_gi',\n",
       " 'imperial_gill',\n",
       " 'imperial_minim',\n",
       " 'imperial_peck',\n",
       " 'imperial_pint',\n",
       " 'imperial_pk',\n",
       " 'imperial_pt',\n",
       " 'imperial_qt',\n",
       " 'imperial_quart',\n",
       " 'in',\n",
       " 'inHg',\n",
       " 'in_Hg',\n",
       " 'inch',\n",
       " 'inch_H2O_39F',\n",
       " 'inch_H2O_60F',\n",
       " 'inch_Hg',\n",
       " 'inch_Hg_32F',\n",
       " 'inch_Hg_60F',\n",
       " 'inches',\n",
       " 'international_british_thermal_unit',\n",
       " 'international_calorie',\n",
       " 'international_feet',\n",
       " 'international_foot',\n",
       " 'international_inch',\n",
       " 'international_inches',\n",
       " 'international_knot',\n",
       " 'international_mile',\n",
       " 'international_steam_table_calorie',\n",
       " 'international_yard',\n",
       " 'jig',\n",
       " 'josephson_constant',\n",
       " 'joule',\n",
       " 'julian_year',\n",
       " 'jute',\n",
       " 'k',\n",
       " 'k_B',\n",
       " 'k_C',\n",
       " 'karat',\n",
       " 'kat',\n",
       " 'katal',\n",
       " 'kayser',\n",
       " 'kelvin',\n",
       " 'kgf',\n",
       " 'kilogram',\n",
       " 'kilogram_force',\n",
       " 'kilometer',\n",
       " 'kilometer_per_hour',\n",
       " 'kilometer_per_second',\n",
       " 'kip',\n",
       " 'kip_per_square_inch',\n",
       " 'knot',\n",
       " 'knot_international',\n",
       " 'kph',\n",
       " 'kps',\n",
       " 'ksi',\n",
       " 'kt',\n",
       " 'l',\n",
       " 'lambda',\n",
       " 'lambert',\n",
       " 'langley',\n",
       " 'lattice_spacing_of_Si',\n",
       " 'lb',\n",
       " 'lbf',\n",
       " 'lbt',\n",
       " 'league',\n",
       " 'leap_year',\n",
       " 'li',\n",
       " 'light_year',\n",
       " 'lightyear',\n",
       " 'link',\n",
       " 'liquid_cup',\n",
       " 'liquid_gallon',\n",
       " 'liquid_gill',\n",
       " 'liquid_pint',\n",
       " 'liquid_quart',\n",
       " 'liter',\n",
       " 'litre',\n",
       " 'lm',\n",
       " 'ln10',\n",
       " 'load_definitions',\n",
       " 'long_hundredweight',\n",
       " 'long_ton',\n",
       " 'long_ton_force',\n",
       " 'lumen',\n",
       " 'lunar_month',\n",
       " 'lux',\n",
       " 'lx',\n",
       " 'ly',\n",
       " 'm',\n",
       " 'm_e',\n",
       " 'm_n',\n",
       " 'm_p',\n",
       " 'm_u',\n",
       " 'magnetic_constant',\n",
       " 'magnetic_flux_quantum',\n",
       " 'mas',\n",
       " 'maxwell',\n",
       " 'mean_international_ampere',\n",
       " 'mean_international_ohm',\n",
       " 'mean_international_volt',\n",
       " 'megametric_ton',\n",
       " 'mercury',\n",
       " 'mercury_60F',\n",
       " 'meter',\n",
       " 'meter_per_second',\n",
       " 'methane',\n",
       " 'metre',\n",
       " 'metric_horsepower',\n",
       " 'metric_ton',\n",
       " 'metric_ton_force',\n",
       " 'mho',\n",
       " 'mi',\n",
       " 'microgram',\n",
       " 'microliter',\n",
       " 'micrometer',\n",
       " 'micromole',\n",
       " 'micron',\n",
       " 'mil',\n",
       " 'mil_length',\n",
       " 'mile',\n",
       " 'mile_per_hour',\n",
       " 'millennia',\n",
       " 'millennium',\n",
       " 'milliarcsecond',\n",
       " 'milligram',\n",
       " 'millimeter',\n",
       " 'millimeter_Hg',\n",
       " 'millimeter_Hg_0C',\n",
       " 'min',\n",
       " 'minim',\n",
       " 'minute',\n",
       " 'mmHg',\n",
       " 'mm_Hg',\n",
       " 'mol',\n",
       " 'molar',\n",
       " 'molar_gas_constant',\n",
       " 'mole',\n",
       " 'molec',\n",
       " 'molecule',\n",
       " 'month',\n",
       " 'mph',\n",
       " 'mps',\n",
       " 'mu0',\n",
       " 'mu_0',\n",
       " 'mu_B',\n",
       " 'mu_N',\n",
       " 'nautical_mile',\n",
       " 'neper',\n",
       " 'neutron_mass',\n",
       " 'newton',\n",
       " 'newtonian_constant_of_gravitation',\n",
       " 'nit',\n",
       " 'nitrogen',\n",
       " 'nitrogen_dioxide',\n",
       " 'nitrous_oxide',\n",
       " 'nitrous_oxide_farming_style',\n",
       " 'nmi',\n",
       " 'non_methane_volatile_organic_compounds',\n",
       " 'nox',\n",
       " 'nuclear_magneton',\n",
       " ...]"
      ]
     },
     "execution_count": 5,
     "metadata": {},
     "output_type": "execute_result"
    }
   ],
   "source": [
    "# NBVAL_IGNORE_OUTPUT\n",
    "dir(unit_registry)"
   ]
  },
  {
   "cell_type": "markdown",
   "metadata": {},
   "source": [
    "## Using Pint Directly\n",
    "\n",
    "For completeness, below we show how to use pint directly. Note that all of these operations are used by `UnitConverter` so the user shouldn't ever have to access pint in this way."
   ]
  },
  {
   "cell_type": "markdown",
   "metadata": {},
   "source": [
    "With the `unit_registry`, we can also create Pint variables/arrays which are unit aware."
   ]
  },
  {
   "cell_type": "code",
   "execution_count": 6,
   "metadata": {
    "pycharm": {
     "is_executing": false
    }
   },
   "outputs": [
    {
     "data": {
      "text/html": [
       "\\[1\\ C\\]"
      ],
      "text/latex": [
       "$1\\ \\mathrm{C}$"
      ],
      "text/plain": [
       "1 <Unit('C')>"
      ]
     },
     "execution_count": 6,
     "metadata": {},
     "output_type": "execute_result"
    }
   ],
   "source": [
    "one_carbon = 1 * unit_registry(\"C\")\n",
    "one_carbon"
   ]
  },
  {
   "cell_type": "code",
   "execution_count": 7,
   "metadata": {
    "pycharm": {
     "is_executing": false
    }
   },
   "outputs": [
    {
     "data": {
      "text/plain": [
       "pint.quantity.build_quantity_class.<locals>.Quantity"
      ]
     },
     "execution_count": 7,
     "metadata": {},
     "output_type": "execute_result"
    }
   ],
   "source": [
    "type(one_carbon)"
   ]
  },
  {
   "cell_type": "code",
   "execution_count": 8,
   "metadata": {
    "pycharm": {
     "is_executing": false
    }
   },
   "outputs": [],
   "source": [
    "one_co2 = 1 * unit_registry.CO2\n",
    "three_n2o = 3 * unit_registry.N2O"
   ]
  },
  {
   "cell_type": "markdown",
   "metadata": {},
   "source": [
    "Pint quantities also print in an intuitive way."
   ]
  },
  {
   "cell_type": "code",
   "execution_count": 9,
   "metadata": {
    "pycharm": {
     "is_executing": false
    }
   },
   "outputs": [
    {
     "name": "stdout",
     "output_type": "stream",
     "text": [
      "1 CO2\n",
      "3 N2O\n"
     ]
    }
   ],
   "source": [
    "print(one_co2)\n",
    "print(three_n2o)"
   ]
  },
  {
   "cell_type": "markdown",
   "metadata": {},
   "source": [
    "We can convert them to base units or to each other."
   ]
  },
  {
   "cell_type": "code",
   "execution_count": 10,
   "metadata": {
    "pycharm": {
     "is_executing": false
    }
   },
   "outputs": [
    {
     "name": "stdout",
     "output_type": "stream",
     "text": [
      "1 C\n",
      "0.2727272727272727 C\n",
      "0.9545454545454546 N\n"
     ]
    }
   ],
   "source": [
    "print(one_carbon.to_base_units())\n",
    "print(one_co2.to(\"C\"))\n",
    "print(three_n2o.to(\"N\"))"
   ]
  },
  {
   "cell_type": "markdown",
   "metadata": {},
   "source": [
    "Operations are units aware."
   ]
  },
  {
   "cell_type": "code",
   "execution_count": 11,
   "metadata": {
    "pycharm": {
     "is_executing": false
    }
   },
   "outputs": [
    {
     "name": "stdout",
     "output_type": "stream",
     "text": [
      "1.2727272727272727 C\n",
      "1 C * CO2\n",
      "0.2727272727272727 C ** 2\n",
      "1.0 C / CO2\n",
      "3.666666666666667 dimensionless\n"
     ]
    }
   ],
   "source": [
    "print(one_carbon + one_co2)\n",
    "print(one_carbon * one_co2)\n",
    "print((one_carbon * one_co2).to_base_units())\n",
    "print(one_carbon / one_co2)\n",
    "print((one_carbon / one_co2).to_base_units())"
   ]
  },
  {
   "cell_type": "markdown",
   "metadata": {},
   "source": [
    "If we have compound units (e.g. emissions units which are [mass] * [substance] / [time]), we can convert any bit of the unit we want."
   ]
  },
  {
   "cell_type": "code",
   "execution_count": 12,
   "metadata": {
    "pycharm": {
     "is_executing": false
    }
   },
   "outputs": [
    {
     "name": "stdout",
     "output_type": "stream",
     "text": [
      "1.0 C * megametric_ton / a\n",
      "5.0 CO2 * metric_ton / second\n"
     ]
    }
   ],
   "source": [
    "eg1 = 1 * unit_registry(\"Mt\") * unit_registry(\"C\") / unit_registry(\"yr\")\n",
    "print(eg1)\n",
    "eg2 = 5 * unit_registry(\"t\") * unit_registry(\"CO2\") / unit_registry(\"s\")\n",
    "print(eg2)"
   ]
  },
  {
   "cell_type": "code",
   "execution_count": 13,
   "metadata": {
    "pycharm": {
     "is_executing": false
    }
   },
   "outputs": [
    {
     "name": "stdout",
     "output_type": "stream",
     "text": [
      "1.0038786219484371e-05 CO2 * gigametric_ton / day\n",
      "0.04303309090909091 C * gigametric_ton / a\n"
     ]
    }
   ],
   "source": [
    "print(eg1.to(\"Gt CO2 / day\"))\n",
    "print(eg2.to(\"Gt C / yr\"))"
   ]
  },
  {
   "cell_type": "markdown",
   "metadata": {},
   "source": [
    "## Contexts\n",
    "\n",
    "With a context, we can use metric conversion definitions to do emissions conversions that would otherwise raise a `DimensionalityError`. For example, converting CO2 to N2O using AR4GWP100 (where 298 tCO2 = 1 tN2O)."
   ]
  },
  {
   "cell_type": "code",
   "execution_count": 14,
   "metadata": {
    "pycharm": {
     "is_executing": false
    }
   },
   "outputs": [
    {
     "data": {
      "text/plain": [
       "298.0"
      ]
     },
     "execution_count": 14,
     "metadata": {},
     "output_type": "execute_result"
    }
   ],
   "source": [
    "ar4gwp100uc = UnitConverter(\"N2O\", \"CO2\", context=\"AR4GWP100\")\n",
    "ar4gwp100uc.convert_from(1)"
   ]
  },
  {
   "cell_type": "code",
   "execution_count": 15,
   "metadata": {
    "pycharm": {
     "is_executing": false
    }
   },
   "outputs": [
    {
     "data": {
      "text/plain": [
       "11.920000000000002"
      ]
     },
     "execution_count": 15,
     "metadata": {},
     "output_type": "execute_result"
    }
   ],
   "source": [
    "ar4gwp100uc = UnitConverter(\"N2O\", \"CH4\", context=\"AR4GWP100\")\n",
    "ar4gwp100uc.convert_from(1)"
   ]
  },
  {
   "cell_type": "markdown",
   "metadata": {},
   "source": [
    "We can see which contexts we have (which we can use for e.g. metric conversions)."
   ]
  },
  {
   "cell_type": "code",
   "execution_count": 16,
   "metadata": {
    "pycharm": {
     "is_executing": false
    }
   },
   "outputs": [
    {
     "data": {
      "text/plain": [
       "['Gaussian',\n",
       " 'Gau',\n",
       " 'ESU',\n",
       " 'esu',\n",
       " 'spectroscopy',\n",
       " 'sp',\n",
       " 'boltzmann',\n",
       " 'energy',\n",
       " 'chemistry',\n",
       " 'chem',\n",
       " 'textile',\n",
       " 'CH4_conversions',\n",
       " 'NOx_conversions',\n",
       " 'SARGWP100',\n",
       " 'AR4GWP100',\n",
       " 'AR5GWP100']"
      ]
     },
     "execution_count": 16,
     "metadata": {},
     "output_type": "execute_result"
    }
   ],
   "source": [
    "ar4gwp100uc.contexts"
   ]
  },
  {
   "cell_type": "markdown",
   "metadata": {},
   "source": [
    "Such context dependent conversions can also be done directly with Pint."
   ]
  },
  {
   "cell_type": "code",
   "execution_count": 17,
   "metadata": {
    "pycharm": {
     "is_executing": false
    }
   },
   "outputs": [
    {
     "name": "stdout",
     "output_type": "stream",
     "text": [
      "1 C\n",
      "3.666666666666667 CO2\n",
      "0.9584604433597722 N\n"
     ]
    }
   ],
   "source": [
    "base = 1 * unit_registry(\"N2O\")\n",
    "with unit_registry.context(\"AR4GWP100\"):\n",
    "    print(one_carbon)\n",
    "    print(one_carbon.to(\"CO2\"))\n",
    "    print(\n",
    "        one_carbon.to(\"N\") + three_n2o\n",
    "    )  # I am not sure why you need to force the conversion of `a` first..."
   ]
  },
  {
   "cell_type": "markdown",
   "metadata": {},
   "source": [
    "Without a context to tell us about metrics, if we try to do an invalid conversion, a `DimensionalityError` will be raised."
   ]
  },
  {
   "cell_type": "code",
   "execution_count": 18,
   "metadata": {
    "pycharm": {
     "is_executing": false
    }
   },
   "outputs": [
    {
     "name": "stderr",
     "output_type": "stream",
     "text": [
      "Traceback (most recent call last):\n",
      "pint.errors.DimensionalityError: Cannot convert from 'N2O' ([nitrogen]) to 'CO2' ([carbon])\n"
     ]
    }
   ],
   "source": [
    "try:\n",
    "    ar4gwp100uc = UnitConverter(\"N2O\", \"CO2\")\n",
    "    ar4gwp100uc.convert_from(1)\n",
    "except DimensionalityError:\n",
    "    traceback.print_exc(limit=0, chain=False)"
   ]
  },
  {
   "cell_type": "code",
   "execution_count": 19,
   "metadata": {
    "pycharm": {
     "is_executing": false
    }
   },
   "outputs": [
    {
     "name": "stderr",
     "output_type": "stream",
     "text": [
      "Traceback (most recent call last):\n",
      "pint.errors.DimensionalityError: Cannot convert from 'N2O' ([nitrogen]) to 'CO2' ([carbon])\n"
     ]
    }
   ],
   "source": [
    "try:\n",
    "    base.to(\"CO2\")\n",
    "except DimensionalityError:\n",
    "    traceback.print_exc(limit=0, chain=False)"
   ]
  },
  {
   "cell_type": "markdown",
   "metadata": {},
   "source": [
    "If the context you use does not have the conversion you request, a warning will be raised. Any subsequent conversions will result in NaN's."
   ]
  },
  {
   "cell_type": "code",
   "execution_count": 20,
   "metadata": {
    "pycharm": {
     "is_executing": false
    }
   },
   "outputs": [
    {
     "name": "stderr",
     "output_type": "stream",
     "text": [
      "UserWarning: No conversion from N2O to Halon2402 available, nan will be returned upon conversion\n"
     ]
    },
    {
     "data": {
      "text/plain": [
       "nan"
      ]
     },
     "execution_count": 20,
     "metadata": {},
     "output_type": "execute_result"
    }
   ],
   "source": [
    "# modify the way the warning appears to remove the path,\n",
    "# thank you https://stackoverflow.com/a/26433913\n",
    "def custom_formatting(\n",
    "    message, category, filename, lineno, file=None, line=None\n",
    "):\n",
    "    return \"{}: {}\\n\".format(category.__name__, message)\n",
    "\n",
    "\n",
    "warnings.formatwarning = custom_formatting\n",
    "\n",
    "ucnan = UnitConverter(\"N2O\", \"Halon2402\", context=\"SARGWP100\")\n",
    "ucnan.convert_from(1)"
   ]
  },
  {
   "cell_type": "code",
   "execution_count": null,
   "metadata": {},
   "outputs": [],
   "source": []
  },
  {
   "cell_type": "code",
   "execution_count": null,
   "metadata": {},
   "outputs": [],
   "source": []
  }
 ],
 "metadata": {
  "kernelspec": {
   "display_name": "Python 3",
   "language": "python",
   "name": "python3"
  },
  "language_info": {
   "codemirror_mode": {
    "name": "ipython",
    "version": 3
   },
   "file_extension": ".py",
   "mimetype": "text/x-python",
   "name": "python",
   "nbconvert_exporter": "python",
   "pygments_lexer": "ipython3",
   "version": "3.7.4"
  },
  "pycharm": {
   "stem_cell": {
    "cell_type": "raw",
    "metadata": {
     "collapsed": false
    },
    "source": []
   }
  }
 },
 "nbformat": 4,
 "nbformat_minor": 2
}
