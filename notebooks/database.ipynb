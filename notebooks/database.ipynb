{
 "cells": [
  {
   "cell_type": "markdown",
   "metadata": {},
   "source": [
    "# ScmDatabase\n",
    "\n",
    "In this notebook, we provide an example of the `ScmDatabase` class. `ScmDatabase` helps reading and writing large bunches of timeseries data by splitting them up into multiple files on disk and allowing users to read/write selections at a time. \n",
    "\n",
    "This allows handling very large datasets which may exceed the amount of system memory a user has available."
   ]
  },
  {
   "cell_type": "code",
   "execution_count": 1,
   "metadata": {},
   "outputs": [
    {
     "name": "stderr",
     "output_type": "stream",
     "text": [
      "/home/jared/code/uom/scmdata/src/scmdata/database.py:11: TqdmExperimentalWarning: Using `tqdm.autonotebook.tqdm` in notebook mode. Use `tqdm.tqdm` instead to force console mode (e.g. in jupyter console)\n",
      "  import tqdm.autonotebook as tqdman\n"
     ]
    }
   ],
   "source": [
    "# NBVAL_IGNORE_OUTPUT\n",
    "import traceback\n",
    "import tempfile\n",
    "import numpy as np\n",
    "\n",
    "from scmdata import ScmRun, run_append\n",
    "from scmdata.database import ScmDatabase\n",
    "from scmdata.errors import NonUniqueMetadataError\n",
    "\n",
    "pd.set_option(\"display.width\", 160)"
   ]
  },
  {
   "cell_type": "markdown",
   "metadata": {},
   "source": [
    "## Initialisation\n",
    "\n",
    "There are two main things to think about when creating a `ScmDatabase`. Namely:\n",
    "\n",
    "* Where the data is going to be stored (`root_dir`)\n",
    "* How the data will be split up (`levels`)\n",
    "\n",
    "When data is to be written to disk it is split into different files, each with a unique combination of metadata values. The `levels` option defines the metadata columns used to split up the data.\n",
    "\n",
    "Choosing an appropriate value for `levels` could play a large role in determining the performance of reading/writing. For example, if you were storing output from a number of different climate models, you may define `levels` as `[\"climate_model\", \"scenario\", \"variable\", \"region\"]`. This would allow loading a particular variable and region, say `Surface Temperature` for the `World` region, from all climate models and scenarios without needing to load the other variables and regions. Specifying too many groups may result in slow writing if a very large number of database files are written.\n",
    "\n",
    "If you wish load a subset of a particular metadata dimension then it must be specified in this list."
   ]
  },
  {
   "cell_type": "code",
   "execution_count": 2,
   "metadata": {},
   "outputs": [
    {
     "name": "stdout",
     "output_type": "stream",
     "text": [
      "\n",
      "        Initialise the database\n",
      "\n",
      "        Parameters\n",
      "        ----------\n",
      "        root_dir : str\n",
      "            The root directory of the database\n",
      "        levels : tuple of str\n",
      "            Specifies how the runs should be stored on disk.\n",
      "\n",
      "            The data will be grouped by ``levels``. These levels should be adapted to\n",
      "            best match the input data and desired access pattern. If there are any additional\n",
      "            varying dimensions, they will be stored as dimensions.\n",
      "\n",
      "        .. note::\n",
      "\n",
      "            Creating a new :class:`ScmDatabase` does not modify any existing data on disk. To\n",
      "            load an existing database ensure that the :attr:`root_dir` and :attr:`levels` are\n",
      "            the same as the previous instance.\n",
      "        \n"
     ]
    }
   ],
   "source": [
    "print(ScmDatabase.__init__.__doc__)"
   ]
  },
  {
   "cell_type": "code",
   "execution_count": 3,
   "metadata": {},
   "outputs": [],
   "source": [
    "temp_out_dir = tempfile.TemporaryDirectory()\n",
    "database = ScmDatabase(temp_out_dir.name, levels=[\"climate_model\", \"scenario\"])"
   ]
  },
  {
   "cell_type": "code",
   "execution_count": 4,
   "metadata": {},
   "outputs": [
    {
     "data": {
      "text/plain": [
       "<scmdata.database.SCMDatabase (root_dir: /tmp/tmpoatk9r2o)>"
      ]
     },
     "execution_count": 4,
     "metadata": {},
     "output_type": "execute_result"
    }
   ],
   "source": [
    "database"
   ]
  },
  {
   "cell_type": "markdown",
   "metadata": {},
   "source": [
    "## Saving data\n",
    "\n",
    "Data can be added to the database using the `save_to_database` method. Subsequent calls merge new data into the database."
   ]
  },
  {
   "cell_type": "code",
   "execution_count": 5,
   "metadata": {},
   "outputs": [],
   "source": [
    "def create_timeseries(\n",
    "    n=100,\n",
    "    count=1,\n",
    "    b_factor=1 / 1000,\n",
    "    model=\"example\",\n",
    "    scenario=\"ssp119\",\n",
    "    variable=\"Surface Temperature\",\n",
    "    unit=\"K\",\n",
    "    region=\"World\",\n",
    "    **kwargs,\n",
    "):\n",
    "    a = np.random.rand(count)\n",
    "    b = np.random.rand(count) * b_factor\n",
    "    data = a + np.arange(n)[:, np.newaxis] ** 2 * b\n",
    "    index = 2000 + np.arange(n)\n",
    "    return ScmRun(\n",
    "        data,\n",
    "        columns={\n",
    "            \"model\": model,\n",
    "            \"scenario\": scenario,\n",
    "            \"variable\": variable,\n",
    "            \"region\": region,\n",
    "            \"unit\": unit,\n",
    "            \"ensemble_member\": range(count),\n",
    "            **kwargs,\n",
    "        },\n",
    "        index=index,\n",
    "    )"
   ]
  },
  {
   "cell_type": "code",
   "execution_count": 6,
   "metadata": {},
   "outputs": [],
   "source": [
    "runs_low = run_append(\n",
    "    [\n",
    "        create_timeseries(\n",
    "            scenario=\"low\",\n",
    "            climate_model=\"model_a\",\n",
    "            count=10,\n",
    "            b_factor=1 / 1000,\n",
    "        ),\n",
    "        create_timeseries(\n",
    "            scenario=\"low\",\n",
    "            climate_model=\"model_b\",\n",
    "            count=10,\n",
    "            b_factor=1 / 1000,\n",
    "        ),\n",
    "    ]\n",
    ")\n",
    "runs_high = run_append(\n",
    "    [\n",
    "        create_timeseries(\n",
    "            scenario=\"high\",\n",
    "            climate_model=\"model_a\",\n",
    "            count=10,\n",
    "            b_factor=2 / 1000,\n",
    "        ),\n",
    "        create_timeseries(\n",
    "            scenario=\"high\",\n",
    "            climate_model=\"model_b\",\n",
    "            count=10,\n",
    "            b_factor=1 / 1000,\n",
    "        ),\n",
    "    ]\n",
    ")"
   ]
  },
  {
   "cell_type": "code",
   "execution_count": 7,
   "metadata": {},
   "outputs": [
    {
     "data": {
      "image/png": "[encoded data removed]",
      "text/plain": [
       "<Figure size 432x288 with 1 Axes>"
      ]
     },
     "metadata": {
      "needs_background": "light"
     },
     "output_type": "display_data"
    }
   ],
   "source": [
    "# NBVAL_IGNORE_OUTPUT\n",
    "run_append([runs_low, runs_high]).line_plot(\n",
    "    hue=\"scenario\", style=\"climate_model\"\n",
    ")"
   ]
  },
  {
   "cell_type": "code",
   "execution_count": 8,
   "metadata": {},
   "outputs": [
    {
     "data": {
      "application/vnd.jupyter.widget-view+json": {
       "model_id": "",
       "version_major": 2,
       "version_minor": 0
      },
      "text/plain": [
       "HBox(children=(FloatProgress(value=1.0, bar_style='info', description='Saving to database', layout=Layout(widt…"
      ]
     },
     "metadata": {},
     "output_type": "display_data"
    }
   ],
   "source": [
    "database.save(runs_low)"
   ]
  },
  {
   "cell_type": "code",
   "execution_count": 9,
   "metadata": {},
   "outputs": [
    {
     "data": {
      "text/html": [
       "<div>\n",
       "<style scoped>\n",
       "    .dataframe tbody tr th:only-of-type {\n",
       "        vertical-align: middle;\n",
       "    }\n",
       "\n",
       "    .dataframe tbody tr th {\n",
       "        vertical-align: top;\n",
       "    }\n",
       "\n",
       "    .dataframe thead th {\n",
       "        text-align: right;\n",
       "    }\n",
       "</style>\n",
       "<table border=\"1\" class=\"dataframe\">\n",
       "  <thead>\n",
       "    <tr style=\"text-align: right;\">\n",
       "      <th></th>\n",
       "      <th>climate_model</th>\n",
       "      <th>scenario</th>\n",
       "    </tr>\n",
       "  </thead>\n",
       "  <tbody>\n",
       "    <tr>\n",
       "      <th>0</th>\n",
       "      <td>model_a</td>\n",
       "      <td>low</td>\n",
       "    </tr>\n",
       "    <tr>\n",
       "      <th>1</th>\n",
       "      <td>model_b</td>\n",
       "      <td>low</td>\n",
       "    </tr>\n",
       "  </tbody>\n",
       "</table>\n",
       "</div>"
      ],
      "text/plain": [
       "  climate_model scenario\n",
       "0       model_a      low\n",
       "1       model_b      low"
      ]
     },
     "execution_count": 9,
     "metadata": {},
     "output_type": "execute_result"
    }
   ],
   "source": [
    "database.available_data()"
   ]
  },
  {
   "cell_type": "markdown",
   "metadata": {},
   "source": [
    "Internally, these each row shown in `available_data()` is stored as a netCDF file in a directory structure following ``database.levels``."
   ]
  },
  {
   "cell_type": "code",
   "execution_count": 10,
   "metadata": {},
   "outputs": [
    {
     "name": "stdout",
     "output_type": "stream",
     "text": [
      "\u001b[01;34m.\u001b[00m\r\n",
      "├── \u001b[01;34mmodel_a\u001b[00m\r\n",
      "│   └── \u001b[01;34mlow\u001b[00m\r\n",
      "│       └── model_a_low.nc\r\n",
      "└── \u001b[01;34mmodel_b\u001b[00m\r\n",
      "    └── \u001b[01;34mlow\u001b[00m\r\n",
      "        └── model_b_low.nc\r\n",
      "\r\n",
      "4 directories, 2 files\r\n"
     ]
    }
   ],
   "source": [
    "!pushd {temp_out_dir.name}; tree; popd"
   ]
  },
  {
   "cell_type": "markdown",
   "metadata": {},
   "source": [
    "Additional calls to `save` will merge the new data into the database, creating any new files as required.\n",
    "\n",
    "If existing data is found, it is first loaded and merged with the saved data before writing so not to lose existing data. "
   ]
  },
  {
   "cell_type": "code",
   "execution_count": 11,
   "metadata": {},
   "outputs": [
    {
     "data": {
      "application/vnd.jupyter.widget-view+json": {
       "model_id": "",
       "version_major": 2,
       "version_minor": 0
      },
      "text/plain": [
       "HBox(children=(FloatProgress(value=1.0, bar_style='info', description='Saving to database', layout=Layout(widt…"
      ]
     },
     "metadata": {},
     "output_type": "display_data"
    }
   ],
   "source": [
    "\n",
    "database.save(runs_high)"
   ]
  },
  {
   "cell_type": "code",
   "execution_count": 12,
   "metadata": {},
   "outputs": [
    {
     "data": {
      "text/html": [
       "<div>\n",
       "<style scoped>\n",
       "    .dataframe tbody tr th:only-of-type {\n",
       "        vertical-align: middle;\n",
       "    }\n",
       "\n",
       "    .dataframe tbody tr th {\n",
       "        vertical-align: top;\n",
       "    }\n",
       "\n",
       "    .dataframe thead th {\n",
       "        text-align: right;\n",
       "    }\n",
       "</style>\n",
       "<table border=\"1\" class=\"dataframe\">\n",
       "  <thead>\n",
       "    <tr style=\"text-align: right;\">\n",
       "      <th></th>\n",
       "      <th>climate_model</th>\n",
       "      <th>scenario</th>\n",
       "    </tr>\n",
       "  </thead>\n",
       "  <tbody>\n",
       "    <tr>\n",
       "      <th>0</th>\n",
       "      <td>model_a</td>\n",
       "      <td>high</td>\n",
       "    </tr>\n",
       "    <tr>\n",
       "      <th>1</th>\n",
       "      <td>model_a</td>\n",
       "      <td>low</td>\n",
       "    </tr>\n",
       "    <tr>\n",
       "      <th>2</th>\n",
       "      <td>model_b</td>\n",
       "      <td>high</td>\n",
       "    </tr>\n",
       "    <tr>\n",
       "      <th>3</th>\n",
       "      <td>model_b</td>\n",
       "      <td>low</td>\n",
       "    </tr>\n",
       "  </tbody>\n",
       "</table>\n",
       "</div>"
      ],
      "text/plain": [
       "  climate_model scenario\n",
       "0       model_a     high\n",
       "1       model_a      low\n",
       "2       model_b     high\n",
       "3       model_b      low"
      ]
     },
     "execution_count": 12,
     "metadata": {},
     "output_type": "execute_result"
    }
   ],
   "source": [
    "database.available_data()"
   ]
  },
  {
   "cell_type": "markdown",
   "metadata": {},
   "source": [
    "These data still need unique metadata otherwise a `NonUniqueMetadataError` is raised."
   ]
  },
  {
   "cell_type": "code",
   "execution_count": 13,
   "metadata": {},
   "outputs": [
    {
     "data": {
      "application/vnd.jupyter.widget-view+json": {
       "model_id": "",
       "version_major": 2,
       "version_minor": 0
      },
      "text/plain": [
       "HBox(children=(FloatProgress(value=1.0, bar_style='info', description='Saving to database', layout=Layout(widt…"
      ]
     },
     "metadata": {},
     "output_type": "display_data"
    },
    {
     "name": "stderr",
     "output_type": "stream",
     "text": [
      "Traceback (most recent call last):\n",
      "scmdata.errors.NonUniqueMetadataError: Duplicate metadata (numbers show how many times the given metadata is repeated).\n",
      "  climate_model ensemble_member    model region scenario unit             variable  repeats\n",
      "0       model_a               0  example  World     high    K  Surface Temperature        2\n",
      "1       model_a               1  example  World     high    K  Surface Temperature        2\n",
      "2       model_a               2  example  World     high    K  Surface Temperature        2\n",
      "3       model_a               3  example  World     high    K  Surface Temperature        2\n",
      "4       model_a               4  example  World     high    K  Surface Temperature        2\n",
      "5       model_a               5  example  World     high    K  Surface Temperature        2\n",
      "6       model_a               6  example  World     high    K  Surface Temperature        2\n",
      "7       model_a               7  example  World     high    K  Surface Temperature        2\n",
      "8       model_a               8  example  World     high    K  Surface Temperature        2\n",
      "9       model_a               9  example  World     high    K  Surface Temperature        2\n"
     ]
    }
   ],
   "source": [
    "try:\n",
    "    database.save(runs_high)\n",
    "except NonUniqueMetadataError:\n",
    "    traceback.print_exc(limit=0, chain=False)"
   ]
  },
  {
   "cell_type": "code",
   "execution_count": 14,
   "metadata": {},
   "outputs": [
    {
     "data": {
      "application/vnd.jupyter.widget-view+json": {
       "model_id": "",
       "version_major": 2,
       "version_minor": 0
      },
      "text/plain": [
       "HBox(children=(FloatProgress(value=1.0, bar_style='info', description='Saving to database', layout=Layout(widt…"
      ]
     },
     "metadata": {},
     "output_type": "display_data"
    }
   ],
   "source": [
    "runs_high_extra = runs_high.copy()\n",
    "runs_high_extra[\"ensemble_member\"] = runs_high_extra[\"ensemble_member\"] + 10\n",
    "database.save(runs_high_extra)"
   ]
  },
  {
   "cell_type": "markdown",
   "metadata": {},
   "source": [
    "## Loading data\n",
    "\n",
    "When loading data we can select a subset of data, similar to `ScmRun.filter` but limited to filtering for the metadata columns as specified in `levels`"
   ]
  },
  {
   "cell_type": "code",
   "execution_count": 15,
   "metadata": {},
   "outputs": [
    {
     "data": {
      "application/vnd.jupyter.widget-view+json": {
       "model_id": "",
       "version_major": 2,
       "version_minor": 0
      },
      "text/plain": [
       "HBox(children=(FloatProgress(value=0.0, description='Loading files', max=2.0, style=ProgressStyle(description_…"
      ]
     },
     "metadata": {},
     "output_type": "display_data"
    },
    {
     "data": {
      "text/plain": [
       "<scmdata.ScmRun (timeseries: 40, timepoints: 100)>\n",
       "Time:\n",
       "\tStart: 2000-01-01T00:00:00\n",
       "\tEnd: 2099-01-01T00:00:00\n",
       "Meta:\n",
       "\t   climate_model  ensemble_member    model region scenario unit             variable\n",
       "\t0        model_a                0  example  World     high    K  Surface Temperature\n",
       "\t1        model_a                1  example  World     high    K  Surface Temperature\n",
       "\t2        model_a                2  example  World     high    K  Surface Temperature\n",
       "\t3        model_a                3  example  World     high    K  Surface Temperature\n",
       "\t4        model_a                4  example  World     high    K  Surface Temperature\n",
       "\t5        model_a                5  example  World     high    K  Surface Temperature\n",
       "\t6        model_a                6  example  World     high    K  Surface Temperature\n",
       "\t7        model_a                7  example  World     high    K  Surface Temperature\n",
       "\t8        model_a                8  example  World     high    K  Surface Temperature\n",
       "\t9        model_a                9  example  World     high    K  Surface Temperature\n",
       "\t10       model_a               10  example  World     high    K  Surface Temperature\n",
       "\t11       model_a               11  example  World     high    K  Surface Temperature\n",
       "\t12       model_a               12  example  World     high    K  Surface Temperature\n",
       "\t13       model_a               13  example  World     high    K  Surface Temperature\n",
       "\t14       model_a               14  example  World     high    K  Surface Temperature\n",
       "\t15       model_a               15  example  World     high    K  Surface Temperature\n",
       "\t16       model_a               16  example  World     high    K  Surface Temperature\n",
       "\t17       model_a               17  example  World     high    K  Surface Temperature\n",
       "\t18       model_a               18  example  World     high    K  Surface Temperature\n",
       "\t19       model_a               19  example  World     high    K  Surface Temperature\n",
       "\t20       model_b                0  example  World     high    K  Surface Temperature\n",
       "\t21       model_b                1  example  World     high    K  Surface Temperature\n",
       "\t22       model_b                2  example  World     high    K  Surface Temperature\n",
       "\t23       model_b                3  example  World     high    K  Surface Temperature\n",
       "\t24       model_b                4  example  World     high    K  Surface Temperature\n",
       "\t25       model_b                5  example  World     high    K  Surface Temperature\n",
       "\t26       model_b                6  example  World     high    K  Surface Temperature\n",
       "\t27       model_b                7  example  World     high    K  Surface Temperature\n",
       "\t28       model_b                8  example  World     high    K  Surface Temperature\n",
       "\t29       model_b                9  example  World     high    K  Surface Temperature\n",
       "\t30       model_b               10  example  World     high    K  Surface Temperature\n",
       "\t31       model_b               11  example  World     high    K  Surface Temperature\n",
       "\t32       model_b               12  example  World     high    K  Surface Temperature\n",
       "\t33       model_b               13  example  World     high    K  Surface Temperature\n",
       "\t34       model_b               14  example  World     high    K  Surface Temperature\n",
       "\t35       model_b               15  example  World     high    K  Surface Temperature\n",
       "\t36       model_b               16  example  World     high    K  Surface Temperature\n",
       "\t37       model_b               17  example  World     high    K  Surface Temperature\n",
       "\t38       model_b               18  example  World     high    K  Surface Temperature\n",
       "\t39       model_b               19  example  World     high    K  Surface Temperature"
      ]
     },
     "execution_count": 15,
     "metadata": {},
     "output_type": "execute_result"
    }
   ],
   "source": [
    "run = database.load(scenario=\"high\")\n",
    "run"
   ]
  },
  {
   "cell_type": "code",
   "execution_count": 16,
   "metadata": {},
   "outputs": [
    {
     "data": {
      "application/vnd.jupyter.widget-view+json": {
       "model_id": "",
       "version_major": 2,
       "version_minor": 0
      },
      "text/plain": [
       "HBox(children=(FloatProgress(value=0.0, description='Loading files', max=2.0, style=ProgressStyle(description_…"
      ]
     },
     "metadata": {},
     "output_type": "display_data"
    },
    {
     "data": {
      "text/plain": [
       "<scmdata.ScmRun (timeseries: 30, timepoints: 100)>\n",
       "Time:\n",
       "\tStart: 2000-01-01T00:00:00\n",
       "\tEnd: 2099-01-01T00:00:00\n",
       "Meta:\n",
       "\t   climate_model  ensemble_member    model region scenario unit             variable\n",
       "\t0        model_b                0  example  World     high    K  Surface Temperature\n",
       "\t1        model_b                1  example  World     high    K  Surface Temperature\n",
       "\t2        model_b                2  example  World     high    K  Surface Temperature\n",
       "\t3        model_b                3  example  World     high    K  Surface Temperature\n",
       "\t4        model_b                4  example  World     high    K  Surface Temperature\n",
       "\t5        model_b                5  example  World     high    K  Surface Temperature\n",
       "\t6        model_b                6  example  World     high    K  Surface Temperature\n",
       "\t7        model_b                7  example  World     high    K  Surface Temperature\n",
       "\t8        model_b                8  example  World     high    K  Surface Temperature\n",
       "\t9        model_b                9  example  World     high    K  Surface Temperature\n",
       "\t10       model_b               10  example  World     high    K  Surface Temperature\n",
       "\t11       model_b               11  example  World     high    K  Surface Temperature\n",
       "\t12       model_b               12  example  World     high    K  Surface Temperature\n",
       "\t13       model_b               13  example  World     high    K  Surface Temperature\n",
       "\t14       model_b               14  example  World     high    K  Surface Temperature\n",
       "\t15       model_b               15  example  World     high    K  Surface Temperature\n",
       "\t16       model_b               16  example  World     high    K  Surface Temperature\n",
       "\t17       model_b               17  example  World     high    K  Surface Temperature\n",
       "\t18       model_b               18  example  World     high    K  Surface Temperature\n",
       "\t19       model_b               19  example  World     high    K  Surface Temperature\n",
       "\t20       model_b                0  example  World      low    K  Surface Temperature\n",
       "\t21       model_b                1  example  World      low    K  Surface Temperature\n",
       "\t22       model_b                2  example  World      low    K  Surface Temperature\n",
       "\t23       model_b                3  example  World      low    K  Surface Temperature\n",
       "\t24       model_b                4  example  World      low    K  Surface Temperature\n",
       "\t25       model_b                5  example  World      low    K  Surface Temperature\n",
       "\t26       model_b                6  example  World      low    K  Surface Temperature\n",
       "\t27       model_b                7  example  World      low    K  Surface Temperature\n",
       "\t28       model_b                8  example  World      low    K  Surface Temperature\n",
       "\t29       model_b                9  example  World      low    K  Surface Temperature"
      ]
     },
     "execution_count": 16,
     "metadata": {},
     "output_type": "execute_result"
    }
   ],
   "source": [
    "database.load(climate_model=\"model_b\")"
   ]
  },
  {
   "cell_type": "markdown",
   "metadata": {},
   "source": [
    "The entire dataset can also be loaded if needed. This may not be possible for very large datasets depending on the amount of system memory available."
   ]
  },
  {
   "cell_type": "code",
   "execution_count": 17,
   "metadata": {},
   "outputs": [
    {
     "data": {
      "application/vnd.jupyter.widget-view+json": {
       "model_id": "",
       "version_major": 2,
       "version_minor": 0
      },
      "text/plain": [
       "HBox(children=(FloatProgress(value=0.0, description='Loading files', max=4.0, style=ProgressStyle(description_…"
      ]
     },
     "metadata": {},
     "output_type": "display_data"
    },
    {
     "data": {
      "text/plain": [
       "<scmdata.ScmRun (timeseries: 60, timepoints: 100)>\n",
       "Time:\n",
       "\tStart: 2000-01-01T00:00:00\n",
       "\tEnd: 2099-01-01T00:00:00\n",
       "Meta:\n",
       "\t   climate_model  ensemble_member    model region scenario unit             variable\n",
       "\t0        model_a                0  example  World     high    K  Surface Temperature\n",
       "\t1        model_a                1  example  World     high    K  Surface Temperature\n",
       "\t2        model_a                2  example  World     high    K  Surface Temperature\n",
       "\t3        model_a                3  example  World     high    K  Surface Temperature\n",
       "\t4        model_a                4  example  World     high    K  Surface Temperature\n",
       "\t5        model_a                5  example  World     high    K  Surface Temperature\n",
       "\t6        model_a                6  example  World     high    K  Surface Temperature\n",
       "\t7        model_a                7  example  World     high    K  Surface Temperature\n",
       "\t8        model_a                8  example  World     high    K  Surface Temperature\n",
       "\t9        model_a                9  example  World     high    K  Surface Temperature\n",
       "\t10       model_a               10  example  World     high    K  Surface Temperature\n",
       "\t11       model_a               11  example  World     high    K  Surface Temperature\n",
       "\t12       model_a               12  example  World     high    K  Surface Temperature\n",
       "\t13       model_a               13  example  World     high    K  Surface Temperature\n",
       "\t14       model_a               14  example  World     high    K  Surface Temperature\n",
       "\t15       model_a               15  example  World     high    K  Surface Temperature\n",
       "\t16       model_a               16  example  World     high    K  Surface Temperature\n",
       "\t17       model_a               17  example  World     high    K  Surface Temperature\n",
       "\t18       model_a               18  example  World     high    K  Surface Temperature\n",
       "\t19       model_a               19  example  World     high    K  Surface Temperature\n",
       "\t20       model_a                0  example  World      low    K  Surface Temperature\n",
       "\t21       model_a                1  example  World      low    K  Surface Temperature\n",
       "\t22       model_a                2  example  World      low    K  Surface Temperature\n",
       "\t23       model_a                3  example  World      low    K  Surface Temperature\n",
       "\t24       model_a                4  example  World      low    K  Surface Temperature\n",
       "\t25       model_a                5  example  World      low    K  Surface Temperature\n",
       "\t26       model_a                6  example  World      low    K  Surface Temperature\n",
       "\t27       model_a                7  example  World      low    K  Surface Temperature\n",
       "\t28       model_a                8  example  World      low    K  Surface Temperature\n",
       "\t29       model_a                9  example  World      low    K  Surface Temperature\n",
       "\t30       model_b                0  example  World     high    K  Surface Temperature\n",
       "\t31       model_b                1  example  World     high    K  Surface Temperature\n",
       "\t32       model_b                2  example  World     high    K  Surface Temperature\n",
       "\t33       model_b                3  example  World     high    K  Surface Temperature\n",
       "\t34       model_b                4  example  World     high    K  Surface Temperature\n",
       "\t35       model_b                5  example  World     high    K  Surface Temperature\n",
       "\t36       model_b                6  example  World     high    K  Surface Temperature\n",
       "\t37       model_b                7  example  World     high    K  Surface Temperature\n",
       "\t38       model_b                8  example  World     high    K  Surface Temperature\n",
       "\t39       model_b                9  example  World     high    K  Surface Temperature\n",
       "\t40       model_b               10  example  World     high    K  Surface Temperature\n",
       "\t41       model_b               11  example  World     high    K  Surface Temperature\n",
       "\t42       model_b               12  example  World     high    K  Surface Temperature\n",
       "\t43       model_b               13  example  World     high    K  Surface Temperature\n",
       "\t44       model_b               14  example  World     high    K  Surface Temperature\n",
       "\t45       model_b               15  example  World     high    K  Surface Temperature\n",
       "\t46       model_b               16  example  World     high    K  Surface Temperature\n",
       "\t47       model_b               17  example  World     high    K  Surface Temperature\n",
       "\t48       model_b               18  example  World     high    K  Surface Temperature\n",
       "\t49       model_b               19  example  World     high    K  Surface Temperature\n",
       "\t50       model_b                0  example  World      low    K  Surface Temperature\n",
       "\t51       model_b                1  example  World      low    K  Surface Temperature\n",
       "\t52       model_b                2  example  World      low    K  Surface Temperature\n",
       "\t53       model_b                3  example  World      low    K  Surface Temperature\n",
       "\t54       model_b                4  example  World      low    K  Surface Temperature\n",
       "\t55       model_b                5  example  World      low    K  Surface Temperature\n",
       "\t56       model_b                6  example  World      low    K  Surface Temperature\n",
       "\t57       model_b                7  example  World      low    K  Surface Temperature\n",
       "\t58       model_b                8  example  World      low    K  Surface Temperature\n",
       "\t59       model_b                9  example  World      low    K  Surface Temperature"
      ]
     },
     "execution_count": 17,
     "metadata": {},
     "output_type": "execute_result"
    }
   ],
   "source": [
    "all_data = database.load()\n",
    "all_data"
   ]
  },
  {
   "cell_type": "code",
   "execution_count": 18,
   "metadata": {},
   "outputs": [
    {
     "data": {
      "image/png": "[encoded data removed]",
      "text/plain": [
       "<Figure size 432x288 with 1 Axes>"
      ]
     },
     "metadata": {
      "needs_background": "light"
     },
     "output_type": "display_data"
    }
   ],
   "source": [
    "# NBVAL_IGNORE_OUTPUT\n",
    "all_data.line_plot(hue=\"scenario\", style=\"climate_model\")"
   ]
  },
  {
   "cell_type": "code",
   "execution_count": 19,
   "metadata": {},
   "outputs": [],
   "source": [
    "temp_out_dir.cleanup()"
   ]
  }
 ],
 "metadata": {
  "kernelspec": {
   "display_name": "Python 3",
   "language": "python",
   "name": "python3"
  },
  "language_info": {
   "codemirror_mode": {
    "name": "ipython",
    "version": 3
   },
   "file_extension": ".py",
   "mimetype": "text/x-python",
   "name": "python",
   "nbconvert_exporter": "python",
   "pygments_lexer": "ipython3",
   "version": "3.8.5"
  }
 },
 "nbformat": 4,
 "nbformat_minor": 4
}
