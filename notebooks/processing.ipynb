{
 "cells": [
  {
   "cell_type": "markdown",
   "id": "c8d3a4bc",
   "metadata": {},
   "source": [
    "# Processing\n",
    "\n",
    "scmdata has some support for processing `ScmRun` instances to calculate statistics of interest. Here we provide examples of how to use them."
   ]
  },
  {
   "cell_type": "markdown",
   "id": "5f2bd88e",
   "metadata": {},
   "source": [
    "## Load some data\n",
    "\n",
    "For this demonstration, we are going to use MAGICC output from [RCMIP Phase 2] as available at [https://zenodo.org/record/4624566/files/data-processed-submission-database-hadcrut5-target-MAGICCv7.5.1.tar.gz?download=1](). Here we have just extracted the air temperature output for the SSPs from 1995 to 2100."
   ]
  },
  {
   "cell_type": "code",
   "execution_count": 1,
   "id": "00038877",
   "metadata": {},
   "outputs": [],
   "source": [
    "# NBVAL_IGNORE_OUTPUT\n",
    "import pandas as pd\n",
    "import scmdata.processing\n",
    "from scmdata import ScmRun, run_append\n",
    "\n",
    "import matplotlib.pyplot as plt\n",
    "import seaborn as sns"
   ]
  },
  {
   "cell_type": "code",
   "execution_count": 2,
   "id": "4b9db541",
   "metadata": {},
   "outputs": [
    {
     "data": {
      "text/plain": [
       "<scmdata.ScmRun (timeseries: 4800, timepoints: 106)>\n",
       "Time:\n",
       "\tStart: 1995-01-01T00:00:00\n",
       "\tEnd: 2100-01-01T00:00:00\n",
       "Meta:\n",
       "\t     climate_model  ensemble_member        model region scenario unit  \\\n",
       "\t0     MAGICCv7.5.1                0  unspecified  World   ssp585    K   \n",
       "\t1     MAGICCv7.5.1                1  unspecified  World   ssp585    K   \n",
       "\t2     MAGICCv7.5.1                2  unspecified  World   ssp585    K   \n",
       "\t3     MAGICCv7.5.1                3  unspecified  World   ssp585    K   \n",
       "\t4     MAGICCv7.5.1                4  unspecified  World   ssp585    K   \n",
       "\t...            ...              ...          ...    ...      ...  ...   \n",
       "\t4795  MAGICCv7.5.1              595  unspecified  World   ssp119    K   \n",
       "\t4796  MAGICCv7.5.1              596  unspecified  World   ssp119    K   \n",
       "\t4797  MAGICCv7.5.1              597  unspecified  World   ssp119    K   \n",
       "\t4798  MAGICCv7.5.1              598  unspecified  World   ssp119    K   \n",
       "\t4799  MAGICCv7.5.1              599  unspecified  World   ssp119    K   \n",
       "\t\n",
       "\t                            variable  \n",
       "\t0     Surface Air Temperature Change  \n",
       "\t1     Surface Air Temperature Change  \n",
       "\t2     Surface Air Temperature Change  \n",
       "\t3     Surface Air Temperature Change  \n",
       "\t4     Surface Air Temperature Change  \n",
       "\t...                              ...  \n",
       "\t4795  Surface Air Temperature Change  \n",
       "\t4796  Surface Air Temperature Change  \n",
       "\t4797  Surface Air Temperature Change  \n",
       "\t4798  Surface Air Temperature Change  \n",
       "\t4799  Surface Air Temperature Change  \n",
       "\t\n",
       "\t[4800 rows x 7 columns]"
      ]
     },
     "execution_count": 2,
     "metadata": {},
     "output_type": "execute_result"
    }
   ],
   "source": [
    "# NBVAL_IGNORE_OUTPUT\n",
    "magicc_output = ScmRun(\"magicc-rcmip-phase-2-gsat-output.csv\")\n",
    "magicc_output"
   ]
  },
  {
   "cell_type": "markdown",
   "id": "01ccdae4",
   "metadata": {},
   "source": [
    "## Crossing times\n",
    "\n",
    "The first thing we do is show how to calculate the crossing times of a given threshold."
   ]
  },
  {
   "cell_type": "code",
   "execution_count": 3,
   "id": "7c6d0fdf",
   "metadata": {},
   "outputs": [
    {
     "data": {
      "text/plain": [
       "climate_model  ensemble_member  model        region  scenario     unit  variable                      \n",
       "MAGICCv7.5.1   0                unspecified  World   ssp119       K     Surface Air Temperature Change       NaN\n",
       "                                                     ssp126       K     Surface Air Temperature Change    2033.0\n",
       "                                                     ssp245       K     Surface Air Temperature Change    2028.0\n",
       "                                                     ssp370       K     Surface Air Temperature Change    2026.0\n",
       "                                                     ssp434       K     Surface Air Temperature Change    2026.0\n",
       "                                                                                                           ...  \n",
       "               599              unspecified  World   ssp370       K     Surface Air Temperature Change    2025.0\n",
       "                                                     ssp434       K     Surface Air Temperature Change    2024.0\n",
       "                                                     ssp460       K     Surface Air Temperature Change    2024.0\n",
       "                                                     ssp534-over  K     Surface Air Temperature Change    2022.0\n",
       "                                                     ssp585       K     Surface Air Temperature Change    2023.0\n",
       "Length: 4800, dtype: float64"
      ]
     },
     "execution_count": 3,
     "metadata": {},
     "output_type": "execute_result"
    }
   ],
   "source": [
    "# NBVAL_IGNORE_OUTPUT\n",
    "crossing_time_15 = magicc_output.process_over(\n",
    "    [], scmdata.processing.calculate_crossing_times, threshold=1.5,\n",
    ")\n",
    "crossing_time_15"
   ]
  },
  {
   "cell_type": "markdown",
   "id": "143266c8",
   "metadata": {},
   "source": [
    "The output is a `pd.Series`, which is useful for many other pieces of work.\n",
    "\n",
    "For example, we could make a plot with e.g. seaborn."
   ]
  },
  {
   "cell_type": "code",
   "execution_count": 4,
   "id": "22386361",
   "metadata": {},
   "outputs": [
    {
     "data": {
      "text/plain": [
       "<AxesSubplot:xlabel='1.5C crossing time', ylabel='Count'>"
      ]
     },
     "execution_count": 4,
     "metadata": {},
     "output_type": "execute_result"
    },
    {
     "data": {
      "image/png": "[encoded data removed]",
      "text/plain": [
       "<Figure size 432x288 with 1 Axes>"
      ]
     },
     "metadata": {
      "needs_background": "light"
     },
     "output_type": "display_data"
    }
   ],
   "source": [
    "label = \"1.5C crossing time\"\n",
    "pdf = crossing_time_15.reset_index().rename({0: label}, axis=\"columns\")\n",
    "sns.histplot(data=pdf, x=label, hue=\"scenario\")"
   ]
  },
  {
   "cell_type": "code",
   "execution_count": 5,
   "id": "ee10f0ff",
   "metadata": {},
   "outputs": [
    {
     "data": {
      "text/plain": [
       "<AxesSubplot:xlabel='2.0C crossing time', ylabel='Count'>"
      ]
     },
     "execution_count": 5,
     "metadata": {},
     "output_type": "execute_result"
    },
    {
     "data": {
      "image/png": "[encoded data removed]",
      "text/plain": [
       "<Figure size 432x288 with 1 Axes>"
      ]
     },
     "metadata": {
      "needs_background": "light"
     },
     "output_type": "display_data"
    }
   ],
   "source": [
    "label = \"2.0C crossing time\"\n",
    "crossing_time_20 = magicc_output.process_over(\n",
    "    [], scmdata.processing.calculate_crossing_times, threshold=2.0,\n",
    ")\n",
    "\n",
    "pdf = crossing_time_20.reset_index().rename({0: label}, axis=\"columns\")\n",
    "sns.histplot(data=pdf, x=label, hue=\"scenario\")"
   ]
  },
  {
   "cell_type": "markdown",
   "id": "c9a3325f",
   "metadata": {},
   "source": [
    "## Exceedance probabilities\n",
    "\n",
    "Next we show how to calculate exceedance probabilities."
   ]
  },
  {
   "cell_type": "code",
   "execution_count": 6,
   "id": "9a2f3a81",
   "metadata": {},
   "outputs": [
    {
     "data": {
      "text/plain": [
       "climate_model  model        region  scenario     unit  variable                      \n",
       "MAGICCv7.5.1   unspecified  World   ssp119       K     Surface Air Temperature Change    0.091667\n",
       "                                    ssp126       K     Surface Air Temperature Change    0.350000\n",
       "                                    ssp245       K     Surface Air Temperature Change    0.995000\n",
       "                                    ssp370       K     Surface Air Temperature Change    1.000000\n",
       "                                    ssp434       K     Surface Air Temperature Change    0.868333\n",
       "                                    ssp460       K     Surface Air Temperature Change    1.000000\n",
       "                                    ssp534-over  K     Surface Air Temperature Change    0.983333\n",
       "                                    ssp585       K     Surface Air Temperature Change    1.000000\n",
       "dtype: float64"
      ]
     },
     "execution_count": 6,
     "metadata": {},
     "output_type": "execute_result"
    }
   ],
   "source": [
    "exceedance_probability_2C = magicc_output.process_over(\n",
    "    \"ensemble_member\",\n",
    "    scmdata.processing.calculate_exceedance_probabilities,\n",
    "    threshold=2.0,\n",
    ")\n",
    "exceedance_probability_2C"
   ]
  },
  {
   "cell_type": "markdown",
   "id": "9140a803",
   "metadata": {},
   "source": [
    "We can make a plot to compare exceedance probabilities over multiple scenarios."
   ]
  },
  {
   "cell_type": "code",
   "execution_count": 7,
   "id": "be151a8b",
   "metadata": {},
   "outputs": [
    {
     "data": {
      "image/png": "[encoded data removed]",
      "text/plain": [
       "<Figure size 432x288 with 1 Axes>"
      ]
     },
     "metadata": {
      "needs_background": "light"
     },
     "output_type": "display_data"
    }
   ],
   "source": [
    "exceedance_probability_15C = magicc_output.process_over(\n",
    "    \"ensemble_member\",\n",
    "    scmdata.processing.calculate_exceedance_probabilities,\n",
    "    threshold=1.5,\n",
    ")\n",
    "\n",
    "\n",
    "def get_pdf(ins, threshold):\n",
    "    out = ins.reset_index().rename(\n",
    "        {0: \"Exceedance probability\"}, axis=\"columns\"\n",
    "    )\n",
    "    out[\"threshold\"] = threshold\n",
    "\n",
    "    return out\n",
    "\n",
    "\n",
    "pdf = pd.concat(\n",
    "    [\n",
    "        get_pdf(exceedance_probability_2C, \"2C\"),\n",
    "        get_pdf(exceedance_probability_15C, \"1.5C\"),\n",
    "    ]\n",
    ")\n",
    "ax = sns.barplot(\n",
    "    data=pdf, x=\"scenario\", y=\"Exceedance probability\", hue=\"threshold\"\n",
    ")\n",
    "ax.tick_params(labelrotation=30)\n",
    "ax.set_ylim([0, 1])\n",
    "ax.legend(loc=\"center left\", bbox_to_anchor=(1.01, 0.5), title=\"threshold\")\n",
    "plt.tight_layout()"
   ]
  },
  {
   "cell_type": "markdown",
   "id": "dd8de520",
   "metadata": {},
   "source": [
    "### Exceedance probabilities over time\n",
    "\n",
    "It is also possible to calculate exceedance probabilities over time."
   ]
  },
  {
   "cell_type": "code",
   "execution_count": 8,
   "id": "be101329",
   "metadata": {},
   "outputs": [
    {
     "data": {
      "text/plain": [
       "<AxesSubplot:xlabel='time', ylabel='K'>"
      ]
     },
     "execution_count": 8,
     "metadata": {},
     "output_type": "execute_result"
    },
    {
     "data": {
      "image/png": "[encoded data removed]",
      "text/plain": [
       "<Figure size 432x288 with 1 Axes>"
      ]
     },
     "metadata": {
      "needs_background": "light"
     },
     "output_type": "display_data"
    }
   ],
   "source": [
    "res = magicc_output.process_over(\n",
    "    \"ensemble_member\",\n",
    "    scmdata.processing.calculate_exceedance_probabilities_over_time,\n",
    "    threshold=1.5,\n",
    ").reset_index()\n",
    "res[\"variable\"] = \"1.5C Exceedance Probability\"\n",
    "res = scmdata.ScmRun(res)\n",
    "res.lineplot(style=\"variable\")"
   ]
  },
  {
   "cell_type": "markdown",
   "id": "25488d97",
   "metadata": {},
   "source": [
    "Note that taking the maximum exceedance probability over all time will be less than or equal to the exceedance probability calculated with `calculate_exceedance_probabilities` because the order of operations matters: calculating whether each ensemble member exceeds the threshold or not then seeing how many ensemble members out of the total exceed the threshold is not the same as seeing how many ensemble members exceed the threshold at each timestep and then taking the maximum over all timesteps. In general, taking the maximum value from `calculate_exceedance_probabilities_over_time` will be less than or equal to the results of `calculate_exceedance_probabilities`, as demonstrated below."
   ]
  },
  {
   "cell_type": "code",
   "execution_count": 9,
   "id": "a4dbdf7b",
   "metadata": {},
   "outputs": [
    {
     "data": {
      "text/html": [
       "<div>\n",
       "<style scoped>\n",
       "    .dataframe tbody tr th:only-of-type {\n",
       "        vertical-align: middle;\n",
       "    }\n",
       "\n",
       "    .dataframe tbody tr th {\n",
       "        vertical-align: top;\n",
       "    }\n",
       "\n",
       "    .dataframe thead th {\n",
       "        text-align: right;\n",
       "    }\n",
       "</style>\n",
       "<table border=\"1\" class=\"dataframe\">\n",
       "  <thead>\n",
       "    <tr style=\"text-align: right;\">\n",
       "      <th></th>\n",
       "      <th></th>\n",
       "      <th></th>\n",
       "      <th></th>\n",
       "      <th></th>\n",
       "      <th>calculate_exceedance_probabilities</th>\n",
       "      <th>max of calculate_exceedance_probabilities_over_time</th>\n",
       "    </tr>\n",
       "    <tr>\n",
       "      <th>climate_model</th>\n",
       "      <th>model</th>\n",
       "      <th>region</th>\n",
       "      <th>scenario</th>\n",
       "      <th>unit</th>\n",
       "      <th></th>\n",
       "      <th></th>\n",
       "    </tr>\n",
       "  </thead>\n",
       "  <tbody>\n",
       "    <tr>\n",
       "      <th rowspan=\"8\" valign=\"top\">MAGICCv7.5.1</th>\n",
       "      <th rowspan=\"8\" valign=\"top\">unspecified</th>\n",
       "      <th rowspan=\"8\" valign=\"top\">World</th>\n",
       "      <th>ssp119</th>\n",
       "      <th>K</th>\n",
       "      <td>0.743</td>\n",
       "      <td>0.738</td>\n",
       "    </tr>\n",
       "    <tr>\n",
       "      <th>ssp126</th>\n",
       "      <th>K</th>\n",
       "      <td>0.940</td>\n",
       "      <td>0.937</td>\n",
       "    </tr>\n",
       "    <tr>\n",
       "      <th>ssp245</th>\n",
       "      <th>K</th>\n",
       "      <td>1.000</td>\n",
       "      <td>1.000</td>\n",
       "    </tr>\n",
       "    <tr>\n",
       "      <th>ssp370</th>\n",
       "      <th>K</th>\n",
       "      <td>1.000</td>\n",
       "      <td>1.000</td>\n",
       "    </tr>\n",
       "    <tr>\n",
       "      <th>ssp434</th>\n",
       "      <th>K</th>\n",
       "      <td>1.000</td>\n",
       "      <td>1.000</td>\n",
       "    </tr>\n",
       "    <tr>\n",
       "      <th>ssp460</th>\n",
       "      <th>K</th>\n",
       "      <td>1.000</td>\n",
       "      <td>1.000</td>\n",
       "    </tr>\n",
       "    <tr>\n",
       "      <th>ssp534-over</th>\n",
       "      <th>K</th>\n",
       "      <td>1.000</td>\n",
       "      <td>1.000</td>\n",
       "    </tr>\n",
       "    <tr>\n",
       "      <th>ssp585</th>\n",
       "      <th>K</th>\n",
       "      <td>1.000</td>\n",
       "      <td>1.000</td>\n",
       "    </tr>\n",
       "  </tbody>\n",
       "</table>\n",
       "</div>"
      ],
      "text/plain": [
       "                                                   calculate_exceedance_probabilities  \\\n",
       "climate_model model       region scenario    unit                                       \n",
       "MAGICCv7.5.1  unspecified World  ssp119      K                                  0.743   \n",
       "                                 ssp126      K                                  0.940   \n",
       "                                 ssp245      K                                  1.000   \n",
       "                                 ssp370      K                                  1.000   \n",
       "                                 ssp434      K                                  1.000   \n",
       "                                 ssp460      K                                  1.000   \n",
       "                                 ssp534-over K                                  1.000   \n",
       "                                 ssp585      K                                  1.000   \n",
       "\n",
       "                                                   max of calculate_exceedance_probabilities_over_time  \n",
       "climate_model model       region scenario    unit                                                       \n",
       "MAGICCv7.5.1  unspecified World  ssp119      K                                                 0.738    \n",
       "                                 ssp126      K                                                 0.937    \n",
       "                                 ssp245      K                                                 1.000    \n",
       "                                 ssp370      K                                                 1.000    \n",
       "                                 ssp434      K                                                 1.000    \n",
       "                                 ssp460      K                                                 1.000    \n",
       "                                 ssp534-over K                                                 1.000    \n",
       "                                 ssp585      K                                                 1.000    "
      ]
     },
     "execution_count": 9,
     "metadata": {},
     "output_type": "execute_result"
    }
   ],
   "source": [
    "pd.DataFrame(\n",
    "    {\n",
    "        \"calculate_exceedance_probabilities\": exceedance_probability_15C.reset_index(\n",
    "            \"variable\", drop=True\n",
    "        ),\n",
    "        \"max of calculate_exceedance_probabilities_over_time\": res.timeseries()\n",
    "        .max(axis=1)\n",
    "        .reset_index(\"variable\", drop=True),\n",
    "    }\n",
    ").round(3)"
   ]
  }
 ],
 "metadata": {
  "kernelspec": {
   "display_name": "Python 3 (ipykernel)",
   "language": "python",
   "name": "python3"
  },
  "language_info": {
   "codemirror_mode": {
    "name": "ipython",
    "version": 3
   },
   "file_extension": ".py",
   "mimetype": "text/x-python",
   "name": "python",
   "nbconvert_exporter": "python",
   "pygments_lexer": "ipython3",
   "version": "3.7.9"
  }
 },
 "nbformat": 4,
 "nbformat_minor": 5
}
