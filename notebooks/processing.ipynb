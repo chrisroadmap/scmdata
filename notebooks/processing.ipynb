{
 "cells": [
  {
   "cell_type": "markdown",
   "id": "c8d3a4bc",
   "metadata": {},
   "source": [
    "# Processing\n",
    "\n",
    "scmdata has some support for processing `ScmRun` instances to calculate statistics of interest. Here we provide examples of how to use them."
   ]
  },
  {
   "cell_type": "markdown",
   "id": "5f2bd88e",
   "metadata": {},
   "source": [
    "## Load some data\n",
    "\n",
    "For this demonstration, we are going to use MAGICC output from [RCMIP Phase 2] as available at [https://zenodo.org/record/4624566/files/data-processed-submission-database-hadcrut5-target-MAGICCv7.5.1.tar.gz?download=1](). Here we have just extracted the air temperature output for the SSPs from 1995 to 2100."
   ]
  },
  {
   "cell_type": "code",
   "execution_count": 1,
   "id": "00038877",
   "metadata": {},
   "outputs": [],
   "source": [
    "# NBVAL_IGNORE_OUTPUT\n",
    "import scmdata.processing\n",
    "from scmdata import ScmRun, run_append\n",
    "\n",
    "import matplotlib.pyplot as plt\n",
    "import seaborn as sns"
   ]
  },
  {
   "cell_type": "code",
   "execution_count": 2,
   "id": "4b9db541",
   "metadata": {},
   "outputs": [
    {
     "data": {
      "text/plain": [
       "<scmdata.ScmRun (timeseries: 4800, timepoints: 106)>\n",
       "Time:\n",
       "\tStart: 1995-01-01T00:00:00\n",
       "\tEnd: 2100-01-01T00:00:00\n",
       "Meta:\n",
       "\t     climate_model  ensemble_member        model region scenario unit  \\\n",
       "\t0     MAGICCv7.5.1                0  unspecified  World   ssp585    K   \n",
       "\t1     MAGICCv7.5.1                1  unspecified  World   ssp585    K   \n",
       "\t2     MAGICCv7.5.1                2  unspecified  World   ssp585    K   \n",
       "\t3     MAGICCv7.5.1                3  unspecified  World   ssp585    K   \n",
       "\t4     MAGICCv7.5.1                4  unspecified  World   ssp585    K   \n",
       "\t...            ...              ...          ...    ...      ...  ...   \n",
       "\t4795  MAGICCv7.5.1              595  unspecified  World   ssp119    K   \n",
       "\t4796  MAGICCv7.5.1              596  unspecified  World   ssp119    K   \n",
       "\t4797  MAGICCv7.5.1              597  unspecified  World   ssp119    K   \n",
       "\t4798  MAGICCv7.5.1              598  unspecified  World   ssp119    K   \n",
       "\t4799  MAGICCv7.5.1              599  unspecified  World   ssp119    K   \n",
       "\t\n",
       "\t                            variable  \n",
       "\t0     Surface Air Temperature Change  \n",
       "\t1     Surface Air Temperature Change  \n",
       "\t2     Surface Air Temperature Change  \n",
       "\t3     Surface Air Temperature Change  \n",
       "\t4     Surface Air Temperature Change  \n",
       "\t...                              ...  \n",
       "\t4795  Surface Air Temperature Change  \n",
       "\t4796  Surface Air Temperature Change  \n",
       "\t4797  Surface Air Temperature Change  \n",
       "\t4798  Surface Air Temperature Change  \n",
       "\t4799  Surface Air Temperature Change  \n",
       "\t\n",
       "\t[4800 rows x 7 columns]"
      ]
     },
     "execution_count": 2,
     "metadata": {},
     "output_type": "execute_result"
    }
   ],
   "source": [
    "# NBVAL_IGNORE_OUTPUT\n",
    "magicc_output = ScmRun(\"magicc-rcmip-phase-2-gsat-output.csv\")\n",
    "magicc_output"
   ]
  },
  {
   "cell_type": "markdown",
   "id": "01ccdae4",
   "metadata": {},
   "source": [
    "## Crossing times\n",
    "\n",
    "The first thing we do is show how to calculate the crossing times of a given threshold."
   ]
  },
  {
   "cell_type": "code",
   "execution_count": 3,
   "id": "7c6d0fdf",
   "metadata": {},
   "outputs": [
    {
     "data": {
      "text/plain": [
       "climate_model  ensemble_member  model        region  scenario     unit  variable                      \n",
       "MAGICCv7.5.1   0                unspecified  World   ssp119       K     Surface Air Temperature Change       NaN\n",
       "                                                     ssp126       K     Surface Air Temperature Change    2033.0\n",
       "                                                     ssp245       K     Surface Air Temperature Change    2028.0\n",
       "                                                     ssp370       K     Surface Air Temperature Change    2026.0\n",
       "                                                     ssp434       K     Surface Air Temperature Change    2026.0\n",
       "                                                                                                           ...  \n",
       "               599              unspecified  World   ssp370       K     Surface Air Temperature Change    2025.0\n",
       "                                                     ssp434       K     Surface Air Temperature Change    2024.0\n",
       "                                                     ssp460       K     Surface Air Temperature Change    2024.0\n",
       "                                                     ssp534-over  K     Surface Air Temperature Change    2022.0\n",
       "                                                     ssp585       K     Surface Air Temperature Change    2023.0\n",
       "Length: 4800, dtype: float64"
      ]
     },
     "execution_count": 3,
     "metadata": {},
     "output_type": "execute_result"
    }
   ],
   "source": [
    "crossing_time_15 = magicc_output.process_over(\n",
    "    [], scmdata.processing.calculate_crossing_times, threshold=1.5,\n",
    ")\n",
    "crossing_time_15"
   ]
  },
  {
   "cell_type": "markdown",
   "id": "143266c8",
   "metadata": {},
   "source": [
    "The output is a `pd.Series`, which is useful for many other pieces of work.\n",
    "\n",
    "For example, we could make a plot with e.g. seaborn."
   ]
  },
  {
   "cell_type": "code",
   "execution_count": 4,
   "id": "22386361",
   "metadata": {},
   "outputs": [
    {
     "data": {
      "text/plain": [
       "<AxesSubplot:xlabel='1.5C crossing time', ylabel='Count'>"
      ]
     },
     "execution_count": 4,
     "metadata": {},
     "output_type": "execute_result"
    },
    {
     "data": {
      "image/png": "[encoded data removed]",
      "text/plain": [
       "<Figure size 432x288 with 1 Axes>"
      ]
     },
     "metadata": {
      "needs_background": "light"
     },
     "output_type": "display_data"
    }
   ],
   "source": [
    "label = \"1.5C crossing time\"\n",
    "pdf = crossing_time_15.reset_index().rename({0: label}, axis=\"columns\")\n",
    "sns.histplot(data=pdf, x=label, hue=\"scenario\")"
   ]
  },
  {
   "cell_type": "code",
   "execution_count": 5,
   "id": "ee10f0ff",
   "metadata": {},
   "outputs": [
    {
     "data": {
      "text/plain": [
       "<AxesSubplot:xlabel='2.0C crossing time', ylabel='Count'>"
      ]
     },
     "execution_count": 5,
     "metadata": {},
     "output_type": "execute_result"
    },
    {
     "data": {
      "image/png": "[encoded data removed]",
      "text/plain": [
       "<Figure size 432x288 with 1 Axes>"
      ]
     },
     "metadata": {
      "needs_background": "light"
     },
     "output_type": "display_data"
    }
   ],
   "source": [
    "label = \"2.0C crossing time\"\n",
    "crossing_time_20 = magicc_output.process_over(\n",
    "    [], scmdata.processing.calculate_crossing_times, threshold=2.0,\n",
    ")\n",
    "\n",
    "pdf = crossing_time_20.reset_index().rename({0: label}, axis=\"columns\")\n",
    "sns.histplot(data=pdf, x=label, hue=\"scenario\")"
   ]
  }
 ],
 "metadata": {
  "kernelspec": {
   "display_name": "Python 3 (ipykernel)",
   "language": "python",
   "name": "python3"
  },
  "language_info": {
   "codemirror_mode": {
    "name": "ipython",
    "version": 3
   },
   "file_extension": ".py",
   "mimetype": "text/x-python",
   "name": "python",
   "nbconvert_exporter": "python",
   "pygments_lexer": "ipython3",
   "version": "3.7.9"
  }
 },
 "nbformat": 4,
 "nbformat_minor": 5
}
